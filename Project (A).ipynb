{
 "cells": [
  {
   "cell_type": "markdown",
   "id": "3a84f384",
   "metadata": {},
   "source": [
    "# Intro Data sets (Amazon bestsellers Books)\n",
    "\n",
    "## 1) Import The Libraries\n",
    "## 2) Data Cleaning &Processing\n",
    "## 3) Exploratory Data Analysis (EDA)\n",
    "## 4) Statistic science\n",
    "## 5) Data Visulization"
   ]
  },
  {
   "cell_type": "markdown",
   "id": "24d01531",
   "metadata": {},
   "source": [
    "# 1) Import The Libraries"
   ]
  },
  {
   "cell_type": "code",
   "execution_count": 77,
   "id": "5168ffcd",
   "metadata": {},
   "outputs": [],
   "source": [
    "import numpy as np \n",
    "import pandas as pd\n",
    "#data visualization\n",
    "import seaborn as sns\n",
    "import matplotlib.pyplot as plt\n",
    "import scipy.stats as st "
   ]
  },
  {
   "cell_type": "code",
   "execution_count": 96,
   "id": "4606220d",
   "metadata": {},
   "outputs": [
    {
     "data": {
      "text/html": [
       "<div>\n",
       "<style scoped>\n",
       "    .dataframe tbody tr th:only-of-type {\n",
       "        vertical-align: middle;\n",
       "    }\n",
       "\n",
       "    .dataframe tbody tr th {\n",
       "        vertical-align: top;\n",
       "    }\n",
       "\n",
       "    .dataframe thead th {\n",
       "        text-align: right;\n",
       "    }\n",
       "</style>\n",
       "<table border=\"1\" class=\"dataframe\">\n",
       "  <thead>\n",
       "    <tr style=\"text-align: right;\">\n",
       "      <th></th>\n",
       "      <th>Name</th>\n",
       "      <th>Author</th>\n",
       "      <th>User Rating</th>\n",
       "      <th>Reviews</th>\n",
       "      <th>Price</th>\n",
       "      <th>Year</th>\n",
       "      <th>Genre</th>\n",
       "    </tr>\n",
       "  </thead>\n",
       "  <tbody>\n",
       "    <tr>\n",
       "      <th>0</th>\n",
       "      <td>10-Day Green Smoothie Cleanse</td>\n",
       "      <td>JJ Smith</td>\n",
       "      <td>4.7</td>\n",
       "      <td>17350</td>\n",
       "      <td>8</td>\n",
       "      <td>2016</td>\n",
       "      <td>Non Fiction</td>\n",
       "    </tr>\n",
       "    <tr>\n",
       "      <th>1</th>\n",
       "      <td>11/22/63: A Novel</td>\n",
       "      <td>Stephen King</td>\n",
       "      <td>4.6</td>\n",
       "      <td>2052</td>\n",
       "      <td>22</td>\n",
       "      <td>2011</td>\n",
       "      <td>Fiction</td>\n",
       "    </tr>\n",
       "    <tr>\n",
       "      <th>2</th>\n",
       "      <td>12 Rules for Life: An Antidote to Chaos</td>\n",
       "      <td>Jordan B. Peterson</td>\n",
       "      <td>4.7</td>\n",
       "      <td>18979</td>\n",
       "      <td>15</td>\n",
       "      <td>2018</td>\n",
       "      <td>Non Fiction</td>\n",
       "    </tr>\n",
       "    <tr>\n",
       "      <th>3</th>\n",
       "      <td>1984 (Signet Classics)</td>\n",
       "      <td>George Orwell</td>\n",
       "      <td>4.7</td>\n",
       "      <td>21424</td>\n",
       "      <td>6</td>\n",
       "      <td>2017</td>\n",
       "      <td>Fiction</td>\n",
       "    </tr>\n",
       "    <tr>\n",
       "      <th>4</th>\n",
       "      <td>5,000 Awesome Facts (About Everything!) (Natio...</td>\n",
       "      <td>National Geographic Kids</td>\n",
       "      <td>4.8</td>\n",
       "      <td>7665</td>\n",
       "      <td>12</td>\n",
       "      <td>2019</td>\n",
       "      <td>Non Fiction</td>\n",
       "    </tr>\n",
       "    <tr>\n",
       "      <th>...</th>\n",
       "      <td>...</td>\n",
       "      <td>...</td>\n",
       "      <td>...</td>\n",
       "      <td>...</td>\n",
       "      <td>...</td>\n",
       "      <td>...</td>\n",
       "      <td>...</td>\n",
       "    </tr>\n",
       "    <tr>\n",
       "      <th>545</th>\n",
       "      <td>Wrecking Ball (Diary of a Wimpy Kid Book 14)</td>\n",
       "      <td>Jeff Kinney</td>\n",
       "      <td>4.9</td>\n",
       "      <td>9413</td>\n",
       "      <td>8</td>\n",
       "      <td>2019</td>\n",
       "      <td>Fiction</td>\n",
       "    </tr>\n",
       "    <tr>\n",
       "      <th>546</th>\n",
       "      <td>You Are a Badass: How to Stop Doubting Your Gr...</td>\n",
       "      <td>Jen Sincero</td>\n",
       "      <td>4.7</td>\n",
       "      <td>14331</td>\n",
       "      <td>8</td>\n",
       "      <td>2016</td>\n",
       "      <td>Non Fiction</td>\n",
       "    </tr>\n",
       "    <tr>\n",
       "      <th>547</th>\n",
       "      <td>You Are a Badass: How to Stop Doubting Your Gr...</td>\n",
       "      <td>Jen Sincero</td>\n",
       "      <td>4.7</td>\n",
       "      <td>14331</td>\n",
       "      <td>8</td>\n",
       "      <td>2017</td>\n",
       "      <td>Non Fiction</td>\n",
       "    </tr>\n",
       "    <tr>\n",
       "      <th>548</th>\n",
       "      <td>You Are a Badass: How to Stop Doubting Your Gr...</td>\n",
       "      <td>Jen Sincero</td>\n",
       "      <td>4.7</td>\n",
       "      <td>14331</td>\n",
       "      <td>8</td>\n",
       "      <td>2018</td>\n",
       "      <td>Non Fiction</td>\n",
       "    </tr>\n",
       "    <tr>\n",
       "      <th>549</th>\n",
       "      <td>You Are a Badass: How to Stop Doubting Your Gr...</td>\n",
       "      <td>Jen Sincero</td>\n",
       "      <td>4.7</td>\n",
       "      <td>14331</td>\n",
       "      <td>8</td>\n",
       "      <td>2019</td>\n",
       "      <td>Non Fiction</td>\n",
       "    </tr>\n",
       "  </tbody>\n",
       "</table>\n",
       "<p>550 rows × 7 columns</p>\n",
       "</div>"
      ],
      "text/plain": [
       "                                                  Name  \\\n",
       "0                        10-Day Green Smoothie Cleanse   \n",
       "1                                    11/22/63: A Novel   \n",
       "2              12 Rules for Life: An Antidote to Chaos   \n",
       "3                               1984 (Signet Classics)   \n",
       "4    5,000 Awesome Facts (About Everything!) (Natio...   \n",
       "..                                                 ...   \n",
       "545       Wrecking Ball (Diary of a Wimpy Kid Book 14)   \n",
       "546  You Are a Badass: How to Stop Doubting Your Gr...   \n",
       "547  You Are a Badass: How to Stop Doubting Your Gr...   \n",
       "548  You Are a Badass: How to Stop Doubting Your Gr...   \n",
       "549  You Are a Badass: How to Stop Doubting Your Gr...   \n",
       "\n",
       "                       Author  User Rating  Reviews  Price  Year        Genre  \n",
       "0                    JJ Smith          4.7    17350      8  2016  Non Fiction  \n",
       "1                Stephen King          4.6     2052     22  2011      Fiction  \n",
       "2          Jordan B. Peterson          4.7    18979     15  2018  Non Fiction  \n",
       "3               George Orwell          4.7    21424      6  2017      Fiction  \n",
       "4    National Geographic Kids          4.8     7665     12  2019  Non Fiction  \n",
       "..                        ...          ...      ...    ...   ...          ...  \n",
       "545               Jeff Kinney          4.9     9413      8  2019      Fiction  \n",
       "546               Jen Sincero          4.7    14331      8  2016  Non Fiction  \n",
       "547               Jen Sincero          4.7    14331      8  2017  Non Fiction  \n",
       "548               Jen Sincero          4.7    14331      8  2018  Non Fiction  \n",
       "549               Jen Sincero          4.7    14331      8  2019  Non Fiction  \n",
       "\n",
       "[550 rows x 7 columns]"
      ]
     },
     "execution_count": 96,
     "metadata": {},
     "output_type": "execute_result"
    }
   ],
   "source": [
    "data = pd.read_csv(\"bestsellers.csv\")\n",
    "data"
   ]
  },
  {
   "cell_type": "markdown",
   "id": "16d68c97",
   "metadata": {},
   "source": [
    "## The first 10 Data"
   ]
  },
  {
   "cell_type": "code",
   "execution_count": 6,
   "id": "d97f4c8e",
   "metadata": {},
   "outputs": [
    {
     "data": {
      "text/html": [
       "<div>\n",
       "<style scoped>\n",
       "    .dataframe tbody tr th:only-of-type {\n",
       "        vertical-align: middle;\n",
       "    }\n",
       "\n",
       "    .dataframe tbody tr th {\n",
       "        vertical-align: top;\n",
       "    }\n",
       "\n",
       "    .dataframe thead th {\n",
       "        text-align: right;\n",
       "    }\n",
       "</style>\n",
       "<table border=\"1\" class=\"dataframe\">\n",
       "  <thead>\n",
       "    <tr style=\"text-align: right;\">\n",
       "      <th></th>\n",
       "      <th>Name</th>\n",
       "      <th>Author</th>\n",
       "      <th>User Rating</th>\n",
       "      <th>Reviews</th>\n",
       "      <th>Price</th>\n",
       "      <th>Year</th>\n",
       "      <th>Genre</th>\n",
       "    </tr>\n",
       "  </thead>\n",
       "  <tbody>\n",
       "    <tr>\n",
       "      <th>0</th>\n",
       "      <td>10-Day Green Smoothie Cleanse</td>\n",
       "      <td>JJ Smith</td>\n",
       "      <td>4.7</td>\n",
       "      <td>17350</td>\n",
       "      <td>8</td>\n",
       "      <td>2016</td>\n",
       "      <td>Non Fiction</td>\n",
       "    </tr>\n",
       "    <tr>\n",
       "      <th>1</th>\n",
       "      <td>11/22/63: A Novel</td>\n",
       "      <td>Stephen King</td>\n",
       "      <td>4.6</td>\n",
       "      <td>2052</td>\n",
       "      <td>22</td>\n",
       "      <td>2011</td>\n",
       "      <td>Fiction</td>\n",
       "    </tr>\n",
       "    <tr>\n",
       "      <th>2</th>\n",
       "      <td>12 Rules for Life: An Antidote to Chaos</td>\n",
       "      <td>Jordan B. Peterson</td>\n",
       "      <td>4.7</td>\n",
       "      <td>18979</td>\n",
       "      <td>15</td>\n",
       "      <td>2018</td>\n",
       "      <td>Non Fiction</td>\n",
       "    </tr>\n",
       "    <tr>\n",
       "      <th>3</th>\n",
       "      <td>1984 (Signet Classics)</td>\n",
       "      <td>George Orwell</td>\n",
       "      <td>4.7</td>\n",
       "      <td>21424</td>\n",
       "      <td>6</td>\n",
       "      <td>2017</td>\n",
       "      <td>Fiction</td>\n",
       "    </tr>\n",
       "    <tr>\n",
       "      <th>4</th>\n",
       "      <td>5,000 Awesome Facts (About Everything!) (Natio...</td>\n",
       "      <td>National Geographic Kids</td>\n",
       "      <td>4.8</td>\n",
       "      <td>7665</td>\n",
       "      <td>12</td>\n",
       "      <td>2019</td>\n",
       "      <td>Non Fiction</td>\n",
       "    </tr>\n",
       "    <tr>\n",
       "      <th>5</th>\n",
       "      <td>A Dance with Dragons (A Song of Ice and Fire)</td>\n",
       "      <td>George R. R. Martin</td>\n",
       "      <td>4.4</td>\n",
       "      <td>12643</td>\n",
       "      <td>11</td>\n",
       "      <td>2011</td>\n",
       "      <td>Fiction</td>\n",
       "    </tr>\n",
       "    <tr>\n",
       "      <th>6</th>\n",
       "      <td>A Game of Thrones / A Clash of Kings / A Storm...</td>\n",
       "      <td>George R. R. Martin</td>\n",
       "      <td>4.7</td>\n",
       "      <td>19735</td>\n",
       "      <td>30</td>\n",
       "      <td>2014</td>\n",
       "      <td>Fiction</td>\n",
       "    </tr>\n",
       "    <tr>\n",
       "      <th>7</th>\n",
       "      <td>A Gentleman in Moscow: A Novel</td>\n",
       "      <td>Amor Towles</td>\n",
       "      <td>4.7</td>\n",
       "      <td>19699</td>\n",
       "      <td>15</td>\n",
       "      <td>2017</td>\n",
       "      <td>Fiction</td>\n",
       "    </tr>\n",
       "    <tr>\n",
       "      <th>8</th>\n",
       "      <td>A Higher Loyalty: Truth, Lies, and Leadership</td>\n",
       "      <td>James Comey</td>\n",
       "      <td>4.7</td>\n",
       "      <td>5983</td>\n",
       "      <td>3</td>\n",
       "      <td>2018</td>\n",
       "      <td>Non Fiction</td>\n",
       "    </tr>\n",
       "    <tr>\n",
       "      <th>9</th>\n",
       "      <td>A Man Called Ove: A Novel</td>\n",
       "      <td>Fredrik Backman</td>\n",
       "      <td>4.6</td>\n",
       "      <td>23848</td>\n",
       "      <td>8</td>\n",
       "      <td>2016</td>\n",
       "      <td>Fiction</td>\n",
       "    </tr>\n",
       "  </tbody>\n",
       "</table>\n",
       "</div>"
      ],
      "text/plain": [
       "                                                Name  \\\n",
       "0                      10-Day Green Smoothie Cleanse   \n",
       "1                                  11/22/63: A Novel   \n",
       "2            12 Rules for Life: An Antidote to Chaos   \n",
       "3                             1984 (Signet Classics)   \n",
       "4  5,000 Awesome Facts (About Everything!) (Natio...   \n",
       "5      A Dance with Dragons (A Song of Ice and Fire)   \n",
       "6  A Game of Thrones / A Clash of Kings / A Storm...   \n",
       "7                     A Gentleman in Moscow: A Novel   \n",
       "8      A Higher Loyalty: Truth, Lies, and Leadership   \n",
       "9                          A Man Called Ove: A Novel   \n",
       "\n",
       "                     Author  User Rating  Reviews  Price  Year        Genre  \n",
       "0                  JJ Smith          4.7    17350      8  2016  Non Fiction  \n",
       "1              Stephen King          4.6     2052     22  2011      Fiction  \n",
       "2        Jordan B. Peterson          4.7    18979     15  2018  Non Fiction  \n",
       "3             George Orwell          4.7    21424      6  2017      Fiction  \n",
       "4  National Geographic Kids          4.8     7665     12  2019  Non Fiction  \n",
       "5       George R. R. Martin          4.4    12643     11  2011      Fiction  \n",
       "6       George R. R. Martin          4.7    19735     30  2014      Fiction  \n",
       "7               Amor Towles          4.7    19699     15  2017      Fiction  \n",
       "8               James Comey          4.7     5983      3  2018  Non Fiction  \n",
       "9           Fredrik Backman          4.6    23848      8  2016      Fiction  "
      ]
     },
     "execution_count": 6,
     "metadata": {},
     "output_type": "execute_result"
    }
   ],
   "source": [
    "data .head(10)"
   ]
  },
  {
   "cell_type": "markdown",
   "id": "117f2f50",
   "metadata": {},
   "source": [
    "## The last 10 Data"
   ]
  },
  {
   "cell_type": "code",
   "execution_count": 7,
   "id": "28ae6355",
   "metadata": {},
   "outputs": [
    {
     "data": {
      "text/html": [
       "<div>\n",
       "<style scoped>\n",
       "    .dataframe tbody tr th:only-of-type {\n",
       "        vertical-align: middle;\n",
       "    }\n",
       "\n",
       "    .dataframe tbody tr th {\n",
       "        vertical-align: top;\n",
       "    }\n",
       "\n",
       "    .dataframe thead th {\n",
       "        text-align: right;\n",
       "    }\n",
       "</style>\n",
       "<table border=\"1\" class=\"dataframe\">\n",
       "  <thead>\n",
       "    <tr style=\"text-align: right;\">\n",
       "      <th></th>\n",
       "      <th>Name</th>\n",
       "      <th>Author</th>\n",
       "      <th>User Rating</th>\n",
       "      <th>Reviews</th>\n",
       "      <th>Price</th>\n",
       "      <th>Year</th>\n",
       "      <th>Genre</th>\n",
       "    </tr>\n",
       "  </thead>\n",
       "  <tbody>\n",
       "    <tr>\n",
       "      <th>540</th>\n",
       "      <td>Wonder</td>\n",
       "      <td>R. J. Palacio</td>\n",
       "      <td>4.8</td>\n",
       "      <td>21625</td>\n",
       "      <td>9</td>\n",
       "      <td>2013</td>\n",
       "      <td>Fiction</td>\n",
       "    </tr>\n",
       "    <tr>\n",
       "      <th>541</th>\n",
       "      <td>Wonder</td>\n",
       "      <td>R. J. Palacio</td>\n",
       "      <td>4.8</td>\n",
       "      <td>21625</td>\n",
       "      <td>9</td>\n",
       "      <td>2014</td>\n",
       "      <td>Fiction</td>\n",
       "    </tr>\n",
       "    <tr>\n",
       "      <th>542</th>\n",
       "      <td>Wonder</td>\n",
       "      <td>R. J. Palacio</td>\n",
       "      <td>4.8</td>\n",
       "      <td>21625</td>\n",
       "      <td>9</td>\n",
       "      <td>2015</td>\n",
       "      <td>Fiction</td>\n",
       "    </tr>\n",
       "    <tr>\n",
       "      <th>543</th>\n",
       "      <td>Wonder</td>\n",
       "      <td>R. J. Palacio</td>\n",
       "      <td>4.8</td>\n",
       "      <td>21625</td>\n",
       "      <td>9</td>\n",
       "      <td>2016</td>\n",
       "      <td>Fiction</td>\n",
       "    </tr>\n",
       "    <tr>\n",
       "      <th>544</th>\n",
       "      <td>Wonder</td>\n",
       "      <td>R. J. Palacio</td>\n",
       "      <td>4.8</td>\n",
       "      <td>21625</td>\n",
       "      <td>9</td>\n",
       "      <td>2017</td>\n",
       "      <td>Fiction</td>\n",
       "    </tr>\n",
       "    <tr>\n",
       "      <th>545</th>\n",
       "      <td>Wrecking Ball (Diary of a Wimpy Kid Book 14)</td>\n",
       "      <td>Jeff Kinney</td>\n",
       "      <td>4.9</td>\n",
       "      <td>9413</td>\n",
       "      <td>8</td>\n",
       "      <td>2019</td>\n",
       "      <td>Fiction</td>\n",
       "    </tr>\n",
       "    <tr>\n",
       "      <th>546</th>\n",
       "      <td>You Are a Badass: How to Stop Doubting Your Gr...</td>\n",
       "      <td>Jen Sincero</td>\n",
       "      <td>4.7</td>\n",
       "      <td>14331</td>\n",
       "      <td>8</td>\n",
       "      <td>2016</td>\n",
       "      <td>Non Fiction</td>\n",
       "    </tr>\n",
       "    <tr>\n",
       "      <th>547</th>\n",
       "      <td>You Are a Badass: How to Stop Doubting Your Gr...</td>\n",
       "      <td>Jen Sincero</td>\n",
       "      <td>4.7</td>\n",
       "      <td>14331</td>\n",
       "      <td>8</td>\n",
       "      <td>2017</td>\n",
       "      <td>Non Fiction</td>\n",
       "    </tr>\n",
       "    <tr>\n",
       "      <th>548</th>\n",
       "      <td>You Are a Badass: How to Stop Doubting Your Gr...</td>\n",
       "      <td>Jen Sincero</td>\n",
       "      <td>4.7</td>\n",
       "      <td>14331</td>\n",
       "      <td>8</td>\n",
       "      <td>2018</td>\n",
       "      <td>Non Fiction</td>\n",
       "    </tr>\n",
       "    <tr>\n",
       "      <th>549</th>\n",
       "      <td>You Are a Badass: How to Stop Doubting Your Gr...</td>\n",
       "      <td>Jen Sincero</td>\n",
       "      <td>4.7</td>\n",
       "      <td>14331</td>\n",
       "      <td>8</td>\n",
       "      <td>2019</td>\n",
       "      <td>Non Fiction</td>\n",
       "    </tr>\n",
       "  </tbody>\n",
       "</table>\n",
       "</div>"
      ],
      "text/plain": [
       "                                                  Name         Author  \\\n",
       "540                                             Wonder  R. J. Palacio   \n",
       "541                                             Wonder  R. J. Palacio   \n",
       "542                                             Wonder  R. J. Palacio   \n",
       "543                                             Wonder  R. J. Palacio   \n",
       "544                                             Wonder  R. J. Palacio   \n",
       "545       Wrecking Ball (Diary of a Wimpy Kid Book 14)    Jeff Kinney   \n",
       "546  You Are a Badass: How to Stop Doubting Your Gr...    Jen Sincero   \n",
       "547  You Are a Badass: How to Stop Doubting Your Gr...    Jen Sincero   \n",
       "548  You Are a Badass: How to Stop Doubting Your Gr...    Jen Sincero   \n",
       "549  You Are a Badass: How to Stop Doubting Your Gr...    Jen Sincero   \n",
       "\n",
       "     User Rating  Reviews  Price  Year        Genre  \n",
       "540          4.8    21625      9  2013      Fiction  \n",
       "541          4.8    21625      9  2014      Fiction  \n",
       "542          4.8    21625      9  2015      Fiction  \n",
       "543          4.8    21625      9  2016      Fiction  \n",
       "544          4.8    21625      9  2017      Fiction  \n",
       "545          4.9     9413      8  2019      Fiction  \n",
       "546          4.7    14331      8  2016  Non Fiction  \n",
       "547          4.7    14331      8  2017  Non Fiction  \n",
       "548          4.7    14331      8  2018  Non Fiction  \n",
       "549          4.7    14331      8  2019  Non Fiction  "
      ]
     },
     "execution_count": 7,
     "metadata": {},
     "output_type": "execute_result"
    }
   ],
   "source": [
    "data.tail(10)"
   ]
  },
  {
   "cell_type": "markdown",
   "id": "bb3b9678",
   "metadata": {},
   "source": [
    "# 2)Data Cleaning &Processing"
   ]
  },
  {
   "cell_type": "code",
   "execution_count": 62,
   "id": "0b4bc51c",
   "metadata": {},
   "outputs": [
    {
     "name": "stdout",
     "output_type": "stream",
     "text": [
      "The Dataset has 550 row and  7 columns\n"
     ]
    }
   ],
   "source": [
    "print('The Dataset has', data.shape[0], 'row and ', data.shape[1], 'columns')"
   ]
  },
  {
   "cell_type": "code",
   "execution_count": 13,
   "id": "b8d9bcec",
   "metadata": {},
   "outputs": [
    {
     "data": {
      "text/plain": [
       "Name           0\n",
       "Author         0\n",
       "User Rating    0\n",
       "Reviews        0\n",
       "Price          0\n",
       "Year           0\n",
       "Genre          0\n",
       "dtype: int64"
      ]
     },
     "execution_count": 13,
     "metadata": {},
     "output_type": "execute_result"
    }
   ],
   "source": [
    "data.isna().sum()"
   ]
  },
  {
   "cell_type": "code",
   "execution_count": 14,
   "id": "94ee89c0",
   "metadata": {},
   "outputs": [
    {
     "data": {
      "text/plain": [
       "Name           351\n",
       "Author         248\n",
       "User Rating     14\n",
       "Reviews        346\n",
       "Price           40\n",
       "Year            11\n",
       "Genre            2\n",
       "dtype: int64"
      ]
     },
     "execution_count": 14,
     "metadata": {},
     "output_type": "execute_result"
    }
   ],
   "source": [
    "data.nunique()"
   ]
  },
  {
   "cell_type": "code",
   "execution_count": 15,
   "id": "3c2cb4f6",
   "metadata": {},
   "outputs": [
    {
     "data": {
      "text/plain": [
       "Index(['Name', 'Author', 'User Rating', 'Reviews', 'Price', 'Year', 'Genre'], dtype='object')"
      ]
     },
     "execution_count": 15,
     "metadata": {},
     "output_type": "execute_result"
    }
   ],
   "source": [
    "data.columns"
   ]
  },
  {
   "cell_type": "markdown",
   "id": "1bf44c31",
   "metadata": {},
   "source": [
    "## Missing values "
   ]
  },
  {
   "cell_type": "code",
   "execution_count": 63,
   "id": "364dd965",
   "metadata": {},
   "outputs": [
    {
     "name": "stdout",
     "output_type": "stream",
     "text": [
      "The Dataset contains 0 missing values and 0 duplicated values\n"
     ]
    }
   ],
   "source": [
    "print('The Dataset contains', data.isna().sum().sum(), 'missing values and', data.duplicated().sum().sum(), 'duplicated values')"
   ]
  },
  {
   "cell_type": "code",
   "execution_count": 16,
   "id": "0befa992",
   "metadata": {},
   "outputs": [
    {
     "data": {
      "text/plain": [
       "<bound method DataFrame.value_counts of                                                   Name  \\\n",
       "0                        10-Day Green Smoothie Cleanse   \n",
       "1                                    11/22/63: A Novel   \n",
       "2              12 Rules for Life: An Antidote to Chaos   \n",
       "3                               1984 (Signet Classics)   \n",
       "4    5,000 Awesome Facts (About Everything!) (Natio...   \n",
       "..                                                 ...   \n",
       "545       Wrecking Ball (Diary of a Wimpy Kid Book 14)   \n",
       "546  You Are a Badass: How to Stop Doubting Your Gr...   \n",
       "547  You Are a Badass: How to Stop Doubting Your Gr...   \n",
       "548  You Are a Badass: How to Stop Doubting Your Gr...   \n",
       "549  You Are a Badass: How to Stop Doubting Your Gr...   \n",
       "\n",
       "                       Author  User Rating  Reviews  Price  Year        Genre  \n",
       "0                    JJ Smith          4.7    17350      8  2016  Non Fiction  \n",
       "1                Stephen King          4.6     2052     22  2011      Fiction  \n",
       "2          Jordan B. Peterson          4.7    18979     15  2018  Non Fiction  \n",
       "3               George Orwell          4.7    21424      6  2017      Fiction  \n",
       "4    National Geographic Kids          4.8     7665     12  2019  Non Fiction  \n",
       "..                        ...          ...      ...    ...   ...          ...  \n",
       "545               Jeff Kinney          4.9     9413      8  2019      Fiction  \n",
       "546               Jen Sincero          4.7    14331      8  2016  Non Fiction  \n",
       "547               Jen Sincero          4.7    14331      8  2017  Non Fiction  \n",
       "548               Jen Sincero          4.7    14331      8  2018  Non Fiction  \n",
       "549               Jen Sincero          4.7    14331      8  2019  Non Fiction  \n",
       "\n",
       "[550 rows x 7 columns]>"
      ]
     },
     "execution_count": 16,
     "metadata": {},
     "output_type": "execute_result"
    }
   ],
   "source": [
    "data.value_counts"
   ]
  },
  {
   "cell_type": "code",
   "execution_count": 18,
   "id": "3e7b3c79",
   "metadata": {},
   "outputs": [
    {
     "data": {
      "text/plain": [
       "Index           128\n",
       "Name           4400\n",
       "Author         4400\n",
       "User Rating    4400\n",
       "Reviews        4400\n",
       "Price          4400\n",
       "Year           4400\n",
       "Genre          4400\n",
       "dtype: int64"
      ]
     },
     "execution_count": 18,
     "metadata": {},
     "output_type": "execute_result"
    }
   ],
   "source": [
    "data.memory_usage()"
   ]
  },
  {
   "cell_type": "code",
   "execution_count": 19,
   "id": "1bccfac9",
   "metadata": {},
   "outputs": [
    {
     "data": {
      "text/plain": [
       "Name            object\n",
       "Author          object\n",
       "User Rating    float64\n",
       "Reviews          int64\n",
       "Price            int64\n",
       "Year             int64\n",
       "Genre           object\n",
       "dtype: object"
      ]
     },
     "execution_count": 19,
     "metadata": {},
     "output_type": "execute_result"
    }
   ],
   "source": [
    "data.dtypes"
   ]
  },
  {
   "cell_type": "code",
   "execution_count": 20,
   "id": "8533de36",
   "metadata": {},
   "outputs": [
    {
     "data": {
      "text/plain": [
       "248"
      ]
     },
     "execution_count": 20,
     "metadata": {},
     "output_type": "execute_result"
    }
   ],
   "source": [
    "data.Author.nunique()"
   ]
  },
  {
   "cell_type": "markdown",
   "id": "d6cc8fa9",
   "metadata": {},
   "source": [
    "## Find The null"
   ]
  },
  {
   "cell_type": "code",
   "execution_count": 21,
   "id": "e0c501d4",
   "metadata": {},
   "outputs": [
    {
     "data": {
      "text/html": [
       "<div>\n",
       "<style scoped>\n",
       "    .dataframe tbody tr th:only-of-type {\n",
       "        vertical-align: middle;\n",
       "    }\n",
       "\n",
       "    .dataframe tbody tr th {\n",
       "        vertical-align: top;\n",
       "    }\n",
       "\n",
       "    .dataframe thead th {\n",
       "        text-align: right;\n",
       "    }\n",
       "</style>\n",
       "<table border=\"1\" class=\"dataframe\">\n",
       "  <thead>\n",
       "    <tr style=\"text-align: right;\">\n",
       "      <th></th>\n",
       "      <th>Name</th>\n",
       "      <th>Author</th>\n",
       "      <th>User Rating</th>\n",
       "      <th>Reviews</th>\n",
       "      <th>Price</th>\n",
       "      <th>Year</th>\n",
       "      <th>Genre</th>\n",
       "    </tr>\n",
       "  </thead>\n",
       "  <tbody>\n",
       "    <tr>\n",
       "      <th>0</th>\n",
       "      <td>False</td>\n",
       "      <td>False</td>\n",
       "      <td>False</td>\n",
       "      <td>False</td>\n",
       "      <td>False</td>\n",
       "      <td>False</td>\n",
       "      <td>False</td>\n",
       "    </tr>\n",
       "    <tr>\n",
       "      <th>1</th>\n",
       "      <td>False</td>\n",
       "      <td>False</td>\n",
       "      <td>False</td>\n",
       "      <td>False</td>\n",
       "      <td>False</td>\n",
       "      <td>False</td>\n",
       "      <td>False</td>\n",
       "    </tr>\n",
       "    <tr>\n",
       "      <th>2</th>\n",
       "      <td>False</td>\n",
       "      <td>False</td>\n",
       "      <td>False</td>\n",
       "      <td>False</td>\n",
       "      <td>False</td>\n",
       "      <td>False</td>\n",
       "      <td>False</td>\n",
       "    </tr>\n",
       "    <tr>\n",
       "      <th>3</th>\n",
       "      <td>False</td>\n",
       "      <td>False</td>\n",
       "      <td>False</td>\n",
       "      <td>False</td>\n",
       "      <td>False</td>\n",
       "      <td>False</td>\n",
       "      <td>False</td>\n",
       "    </tr>\n",
       "    <tr>\n",
       "      <th>4</th>\n",
       "      <td>False</td>\n",
       "      <td>False</td>\n",
       "      <td>False</td>\n",
       "      <td>False</td>\n",
       "      <td>False</td>\n",
       "      <td>False</td>\n",
       "      <td>False</td>\n",
       "    </tr>\n",
       "    <tr>\n",
       "      <th>...</th>\n",
       "      <td>...</td>\n",
       "      <td>...</td>\n",
       "      <td>...</td>\n",
       "      <td>...</td>\n",
       "      <td>...</td>\n",
       "      <td>...</td>\n",
       "      <td>...</td>\n",
       "    </tr>\n",
       "    <tr>\n",
       "      <th>545</th>\n",
       "      <td>False</td>\n",
       "      <td>False</td>\n",
       "      <td>False</td>\n",
       "      <td>False</td>\n",
       "      <td>False</td>\n",
       "      <td>False</td>\n",
       "      <td>False</td>\n",
       "    </tr>\n",
       "    <tr>\n",
       "      <th>546</th>\n",
       "      <td>False</td>\n",
       "      <td>False</td>\n",
       "      <td>False</td>\n",
       "      <td>False</td>\n",
       "      <td>False</td>\n",
       "      <td>False</td>\n",
       "      <td>False</td>\n",
       "    </tr>\n",
       "    <tr>\n",
       "      <th>547</th>\n",
       "      <td>False</td>\n",
       "      <td>False</td>\n",
       "      <td>False</td>\n",
       "      <td>False</td>\n",
       "      <td>False</td>\n",
       "      <td>False</td>\n",
       "      <td>False</td>\n",
       "    </tr>\n",
       "    <tr>\n",
       "      <th>548</th>\n",
       "      <td>False</td>\n",
       "      <td>False</td>\n",
       "      <td>False</td>\n",
       "      <td>False</td>\n",
       "      <td>False</td>\n",
       "      <td>False</td>\n",
       "      <td>False</td>\n",
       "    </tr>\n",
       "    <tr>\n",
       "      <th>549</th>\n",
       "      <td>False</td>\n",
       "      <td>False</td>\n",
       "      <td>False</td>\n",
       "      <td>False</td>\n",
       "      <td>False</td>\n",
       "      <td>False</td>\n",
       "      <td>False</td>\n",
       "    </tr>\n",
       "  </tbody>\n",
       "</table>\n",
       "<p>550 rows × 7 columns</p>\n",
       "</div>"
      ],
      "text/plain": [
       "      Name  Author  User Rating  Reviews  Price   Year  Genre\n",
       "0    False   False        False    False  False  False  False\n",
       "1    False   False        False    False  False  False  False\n",
       "2    False   False        False    False  False  False  False\n",
       "3    False   False        False    False  False  False  False\n",
       "4    False   False        False    False  False  False  False\n",
       "..     ...     ...          ...      ...    ...    ...    ...\n",
       "545  False   False        False    False  False  False  False\n",
       "546  False   False        False    False  False  False  False\n",
       "547  False   False        False    False  False  False  False\n",
       "548  False   False        False    False  False  False  False\n",
       "549  False   False        False    False  False  False  False\n",
       "\n",
       "[550 rows x 7 columns]"
      ]
     },
     "execution_count": 21,
     "metadata": {},
     "output_type": "execute_result"
    }
   ],
   "source": [
    "data.isnull()"
   ]
  },
  {
   "cell_type": "code",
   "execution_count": 22,
   "id": "8630928b",
   "metadata": {},
   "outputs": [
    {
     "data": {
      "text/plain": [
       "Name           0\n",
       "Author         0\n",
       "User Rating    0\n",
       "Reviews        0\n",
       "Price          0\n",
       "Year           0\n",
       "Genre          0\n",
       "dtype: int64"
      ]
     },
     "execution_count": 22,
     "metadata": {},
     "output_type": "execute_result"
    }
   ],
   "source": [
    "data.isnull().sum()"
   ]
  },
  {
   "cell_type": "code",
   "execution_count": 23,
   "id": "67052ad0",
   "metadata": {},
   "outputs": [
    {
     "data": {
      "text/plain": [
       "Publication Manual of the American Psychological Association, 6th Edition       10\n",
       "StrengthsFinder 2.0                                                              9\n",
       "Oh, the Places You'll Go!                                                        8\n",
       "The Very Hungry Caterpillar                                                      7\n",
       "The 7 Habits of Highly Effective People: Powerful Lessons in Personal Change     7\n",
       "                                                                                ..\n",
       "Humans of New York : Stories                                                     1\n",
       "Howard Stern Comes Again                                                         1\n",
       "Homebody: A Guide to Creating Spaces You Never Want to Leave                     1\n",
       "Have a Little Faith: A True Story                                                1\n",
       "Night (Night)                                                                    1\n",
       "Name: Name, Length: 351, dtype: int64"
      ]
     },
     "execution_count": 23,
     "metadata": {},
     "output_type": "execute_result"
    }
   ],
   "source": [
    "data['Name'].value_counts() "
   ]
  },
  {
   "cell_type": "code",
   "execution_count": 24,
   "id": "597bfe50",
   "metadata": {},
   "outputs": [
    {
     "data": {
      "text/plain": [
       "Jeff Kinney                           12\n",
       "Gary Chapman                          11\n",
       "Rick Riordan                          11\n",
       "Suzanne Collins                       11\n",
       "American Psychological Association    10\n",
       "                                      ..\n",
       "Keith Richards                         1\n",
       "Chris Cleave                           1\n",
       "Alice Schertle                         1\n",
       "Celeste Ng                             1\n",
       "Adam Gasiewski                         1\n",
       "Name: Author, Length: 248, dtype: int64"
      ]
     },
     "execution_count": 24,
     "metadata": {},
     "output_type": "execute_result"
    }
   ],
   "source": [
    "data['Author'].value_counts() "
   ]
  },
  {
   "cell_type": "code",
   "execution_count": 25,
   "id": "69c9755d",
   "metadata": {},
   "outputs": [
    {
     "data": {
      "text/plain": [
       "<bound method IndexOpsMixin.value_counts of 0       8\n",
       "1      22\n",
       "2      15\n",
       "3       6\n",
       "4      12\n",
       "       ..\n",
       "545     8\n",
       "546     8\n",
       "547     8\n",
       "548     8\n",
       "549     8\n",
       "Name: Price, Length: 550, dtype: int64>"
      ]
     },
     "execution_count": 25,
     "metadata": {},
     "output_type": "execute_result"
    }
   ],
   "source": [
    "data.Price.value_counts"
   ]
  },
  {
   "cell_type": "markdown",
   "id": "08fb2e73",
   "metadata": {},
   "source": [
    "# 3) Exploratory Data Analysis (EDA)"
   ]
  },
  {
   "cell_type": "markdown",
   "id": "a11a7839",
   "metadata": {},
   "source": [
    "## 1) information about data"
   ]
  },
  {
   "cell_type": "code",
   "execution_count": 8,
   "id": "6bba88d4",
   "metadata": {},
   "outputs": [
    {
     "data": {
      "text/plain": [
       "<bound method DataFrame.info of                                                   Name  \\\n",
       "0                        10-Day Green Smoothie Cleanse   \n",
       "1                                    11/22/63: A Novel   \n",
       "2              12 Rules for Life: An Antidote to Chaos   \n",
       "3                               1984 (Signet Classics)   \n",
       "4    5,000 Awesome Facts (About Everything!) (Natio...   \n",
       "..                                                 ...   \n",
       "545       Wrecking Ball (Diary of a Wimpy Kid Book 14)   \n",
       "546  You Are a Badass: How to Stop Doubting Your Gr...   \n",
       "547  You Are a Badass: How to Stop Doubting Your Gr...   \n",
       "548  You Are a Badass: How to Stop Doubting Your Gr...   \n",
       "549  You Are a Badass: How to Stop Doubting Your Gr...   \n",
       "\n",
       "                       Author  User Rating  Reviews  Price  Year        Genre  \n",
       "0                    JJ Smith          4.7    17350      8  2016  Non Fiction  \n",
       "1                Stephen King          4.6     2052     22  2011      Fiction  \n",
       "2          Jordan B. Peterson          4.7    18979     15  2018  Non Fiction  \n",
       "3               George Orwell          4.7    21424      6  2017      Fiction  \n",
       "4    National Geographic Kids          4.8     7665     12  2019  Non Fiction  \n",
       "..                        ...          ...      ...    ...   ...          ...  \n",
       "545               Jeff Kinney          4.9     9413      8  2019      Fiction  \n",
       "546               Jen Sincero          4.7    14331      8  2016  Non Fiction  \n",
       "547               Jen Sincero          4.7    14331      8  2017  Non Fiction  \n",
       "548               Jen Sincero          4.7    14331      8  2018  Non Fiction  \n",
       "549               Jen Sincero          4.7    14331      8  2019  Non Fiction  \n",
       "\n",
       "[550 rows x 7 columns]>"
      ]
     },
     "execution_count": 8,
     "metadata": {},
     "output_type": "execute_result"
    }
   ],
   "source": [
    "data.info"
   ]
  },
  {
   "cell_type": "code",
   "execution_count": 9,
   "id": "ecdec11f",
   "metadata": {},
   "outputs": [
    {
     "data": {
      "text/plain": [
       "3850"
      ]
     },
     "execution_count": 9,
     "metadata": {},
     "output_type": "execute_result"
    }
   ],
   "source": [
    "data.size"
   ]
  },
  {
   "cell_type": "code",
   "execution_count": 12,
   "id": "58ef93e2",
   "metadata": {},
   "outputs": [
    {
     "data": {
      "text/plain": [
       "(550, 7)"
      ]
     },
     "execution_count": 12,
     "metadata": {},
     "output_type": "execute_result"
    }
   ],
   "source": [
    "data.shape"
   ]
  },
  {
   "cell_type": "markdown",
   "id": "a052425b",
   "metadata": {},
   "source": [
    "## 2) select Name , Genre and price 10Rows"
   ]
  },
  {
   "cell_type": "code",
   "execution_count": 4,
   "id": "657b234b",
   "metadata": {},
   "outputs": [
    {
     "data": {
      "text/html": [
       "<div>\n",
       "<style scoped>\n",
       "    .dataframe tbody tr th:only-of-type {\n",
       "        vertical-align: middle;\n",
       "    }\n",
       "\n",
       "    .dataframe tbody tr th {\n",
       "        vertical-align: top;\n",
       "    }\n",
       "\n",
       "    .dataframe thead th {\n",
       "        text-align: right;\n",
       "    }\n",
       "</style>\n",
       "<table border=\"1\" class=\"dataframe\">\n",
       "  <thead>\n",
       "    <tr style=\"text-align: right;\">\n",
       "      <th></th>\n",
       "      <th>Name</th>\n",
       "      <th>Genre</th>\n",
       "      <th>Price</th>\n",
       "    </tr>\n",
       "  </thead>\n",
       "  <tbody>\n",
       "    <tr>\n",
       "      <th>0</th>\n",
       "      <td>10-Day Green Smoothie Cleanse</td>\n",
       "      <td>Non Fiction</td>\n",
       "      <td>8</td>\n",
       "    </tr>\n",
       "    <tr>\n",
       "      <th>1</th>\n",
       "      <td>11/22/63: A Novel</td>\n",
       "      <td>Fiction</td>\n",
       "      <td>22</td>\n",
       "    </tr>\n",
       "    <tr>\n",
       "      <th>2</th>\n",
       "      <td>12 Rules for Life: An Antidote to Chaos</td>\n",
       "      <td>Non Fiction</td>\n",
       "      <td>15</td>\n",
       "    </tr>\n",
       "    <tr>\n",
       "      <th>3</th>\n",
       "      <td>1984 (Signet Classics)</td>\n",
       "      <td>Fiction</td>\n",
       "      <td>6</td>\n",
       "    </tr>\n",
       "    <tr>\n",
       "      <th>4</th>\n",
       "      <td>5,000 Awesome Facts (About Everything!) (Natio...</td>\n",
       "      <td>Non Fiction</td>\n",
       "      <td>12</td>\n",
       "    </tr>\n",
       "    <tr>\n",
       "      <th>5</th>\n",
       "      <td>A Dance with Dragons (A Song of Ice and Fire)</td>\n",
       "      <td>Fiction</td>\n",
       "      <td>11</td>\n",
       "    </tr>\n",
       "    <tr>\n",
       "      <th>6</th>\n",
       "      <td>A Game of Thrones / A Clash of Kings / A Storm...</td>\n",
       "      <td>Fiction</td>\n",
       "      <td>30</td>\n",
       "    </tr>\n",
       "    <tr>\n",
       "      <th>7</th>\n",
       "      <td>A Gentleman in Moscow: A Novel</td>\n",
       "      <td>Fiction</td>\n",
       "      <td>15</td>\n",
       "    </tr>\n",
       "    <tr>\n",
       "      <th>8</th>\n",
       "      <td>A Higher Loyalty: Truth, Lies, and Leadership</td>\n",
       "      <td>Non Fiction</td>\n",
       "      <td>3</td>\n",
       "    </tr>\n",
       "    <tr>\n",
       "      <th>9</th>\n",
       "      <td>A Man Called Ove: A Novel</td>\n",
       "      <td>Fiction</td>\n",
       "      <td>8</td>\n",
       "    </tr>\n",
       "    <tr>\n",
       "      <th>10</th>\n",
       "      <td>A Man Called Ove: A Novel</td>\n",
       "      <td>Fiction</td>\n",
       "      <td>8</td>\n",
       "    </tr>\n",
       "  </tbody>\n",
       "</table>\n",
       "</div>"
      ],
      "text/plain": [
       "                                                 Name        Genre  Price\n",
       "0                       10-Day Green Smoothie Cleanse  Non Fiction      8\n",
       "1                                   11/22/63: A Novel      Fiction     22\n",
       "2             12 Rules for Life: An Antidote to Chaos  Non Fiction     15\n",
       "3                              1984 (Signet Classics)      Fiction      6\n",
       "4   5,000 Awesome Facts (About Everything!) (Natio...  Non Fiction     12\n",
       "5       A Dance with Dragons (A Song of Ice and Fire)      Fiction     11\n",
       "6   A Game of Thrones / A Clash of Kings / A Storm...      Fiction     30\n",
       "7                      A Gentleman in Moscow: A Novel      Fiction     15\n",
       "8       A Higher Loyalty: Truth, Lies, and Leadership  Non Fiction      3\n",
       "9                           A Man Called Ove: A Novel      Fiction      8\n",
       "10                          A Man Called Ove: A Novel      Fiction      8"
      ]
     },
     "execution_count": 4,
     "metadata": {},
     "output_type": "execute_result"
    }
   ],
   "source": [
    "data.loc[0:10,[\"Name\",\"Genre\",\"Price\"]]"
   ]
  },
  {
   "cell_type": "code",
   "execution_count": 5,
   "id": "f846336b",
   "metadata": {},
   "outputs": [
    {
     "data": {
      "text/html": [
       "<div>\n",
       "<style scoped>\n",
       "    .dataframe tbody tr th:only-of-type {\n",
       "        vertical-align: middle;\n",
       "    }\n",
       "\n",
       "    .dataframe tbody tr th {\n",
       "        vertical-align: top;\n",
       "    }\n",
       "\n",
       "    .dataframe thead th {\n",
       "        text-align: right;\n",
       "    }\n",
       "</style>\n",
       "<table border=\"1\" class=\"dataframe\">\n",
       "  <thead>\n",
       "    <tr style=\"text-align: right;\">\n",
       "      <th></th>\n",
       "      <th>User Rating</th>\n",
       "      <th>Reviews</th>\n",
       "      <th>Price</th>\n",
       "      <th>Year</th>\n",
       "    </tr>\n",
       "  </thead>\n",
       "  <tbody>\n",
       "    <tr>\n",
       "      <th>0</th>\n",
       "      <td>4.7</td>\n",
       "      <td>17350</td>\n",
       "      <td>8</td>\n",
       "      <td>2016</td>\n",
       "    </tr>\n",
       "    <tr>\n",
       "      <th>1</th>\n",
       "      <td>4.6</td>\n",
       "      <td>2052</td>\n",
       "      <td>22</td>\n",
       "      <td>2011</td>\n",
       "    </tr>\n",
       "    <tr>\n",
       "      <th>2</th>\n",
       "      <td>4.7</td>\n",
       "      <td>18979</td>\n",
       "      <td>15</td>\n",
       "      <td>2018</td>\n",
       "    </tr>\n",
       "    <tr>\n",
       "      <th>3</th>\n",
       "      <td>4.7</td>\n",
       "      <td>21424</td>\n",
       "      <td>6</td>\n",
       "      <td>2017</td>\n",
       "    </tr>\n",
       "    <tr>\n",
       "      <th>4</th>\n",
       "      <td>4.8</td>\n",
       "      <td>7665</td>\n",
       "      <td>12</td>\n",
       "      <td>2019</td>\n",
       "    </tr>\n",
       "    <tr>\n",
       "      <th>5</th>\n",
       "      <td>4.4</td>\n",
       "      <td>12643</td>\n",
       "      <td>11</td>\n",
       "      <td>2011</td>\n",
       "    </tr>\n",
       "    <tr>\n",
       "      <th>6</th>\n",
       "      <td>4.7</td>\n",
       "      <td>19735</td>\n",
       "      <td>30</td>\n",
       "      <td>2014</td>\n",
       "    </tr>\n",
       "    <tr>\n",
       "      <th>7</th>\n",
       "      <td>4.7</td>\n",
       "      <td>19699</td>\n",
       "      <td>15</td>\n",
       "      <td>2017</td>\n",
       "    </tr>\n",
       "    <tr>\n",
       "      <th>8</th>\n",
       "      <td>4.7</td>\n",
       "      <td>5983</td>\n",
       "      <td>3</td>\n",
       "      <td>2018</td>\n",
       "    </tr>\n",
       "    <tr>\n",
       "      <th>9</th>\n",
       "      <td>4.6</td>\n",
       "      <td>23848</td>\n",
       "      <td>8</td>\n",
       "      <td>2016</td>\n",
       "    </tr>\n",
       "  </tbody>\n",
       "</table>\n",
       "</div>"
      ],
      "text/plain": [
       "   User Rating  Reviews  Price  Year\n",
       "0          4.7    17350      8  2016\n",
       "1          4.6     2052     22  2011\n",
       "2          4.7    18979     15  2018\n",
       "3          4.7    21424      6  2017\n",
       "4          4.8     7665     12  2019\n",
       "5          4.4    12643     11  2011\n",
       "6          4.7    19735     30  2014\n",
       "7          4.7    19699     15  2017\n",
       "8          4.7     5983      3  2018\n",
       "9          4.6    23848      8  2016"
      ]
     },
     "execution_count": 5,
     "metadata": {},
     "output_type": "execute_result"
    }
   ],
   "source": [
    "data.iloc[:10, 2:6]"
   ]
  },
  {
   "cell_type": "markdown",
   "id": "a934ed74",
   "metadata": {},
   "source": [
    "## 3) 2019 events"
   ]
  },
  {
   "cell_type": "code",
   "execution_count": 6,
   "id": "57a8cb75",
   "metadata": {},
   "outputs": [
    {
     "data": {
      "text/html": [
       "<div>\n",
       "<style scoped>\n",
       "    .dataframe tbody tr th:only-of-type {\n",
       "        vertical-align: middle;\n",
       "    }\n",
       "\n",
       "    .dataframe tbody tr th {\n",
       "        vertical-align: top;\n",
       "    }\n",
       "\n",
       "    .dataframe thead th {\n",
       "        text-align: right;\n",
       "    }\n",
       "</style>\n",
       "<table border=\"1\" class=\"dataframe\">\n",
       "  <thead>\n",
       "    <tr style=\"text-align: right;\">\n",
       "      <th></th>\n",
       "      <th>Name</th>\n",
       "      <th>Author</th>\n",
       "      <th>User Rating</th>\n",
       "      <th>Reviews</th>\n",
       "      <th>Price</th>\n",
       "      <th>Year</th>\n",
       "      <th>Genre</th>\n",
       "    </tr>\n",
       "  </thead>\n",
       "  <tbody>\n",
       "    <tr>\n",
       "      <th>4</th>\n",
       "      <td>5,000 Awesome Facts (About Everything!) (Natio...</td>\n",
       "      <td>National Geographic Kids</td>\n",
       "      <td>4.8</td>\n",
       "      <td>7665</td>\n",
       "      <td>12</td>\n",
       "      <td>2019</td>\n",
       "      <td>Non Fiction</td>\n",
       "    </tr>\n",
       "    <tr>\n",
       "      <th>33</th>\n",
       "      <td>Becoming</td>\n",
       "      <td>Michelle Obama</td>\n",
       "      <td>4.8</td>\n",
       "      <td>61133</td>\n",
       "      <td>11</td>\n",
       "      <td>2019</td>\n",
       "      <td>Non Fiction</td>\n",
       "    </tr>\n",
       "    <tr>\n",
       "      <th>41</th>\n",
       "      <td>Brown Bear, Brown Bear, What Do You See?</td>\n",
       "      <td>Bill Martin Jr.</td>\n",
       "      <td>4.9</td>\n",
       "      <td>14344</td>\n",
       "      <td>5</td>\n",
       "      <td>2019</td>\n",
       "      <td>Fiction</td>\n",
       "    </tr>\n",
       "    <tr>\n",
       "      <th>44</th>\n",
       "      <td>Can't Hurt Me: Master Your Mind and Defy the Odds</td>\n",
       "      <td>David Goggins</td>\n",
       "      <td>4.8</td>\n",
       "      <td>16244</td>\n",
       "      <td>18</td>\n",
       "      <td>2019</td>\n",
       "      <td>Non Fiction</td>\n",
       "    </tr>\n",
       "    <tr>\n",
       "      <th>74</th>\n",
       "      <td>Difficult Riddles For Smart Kids: 300 Difficul...</td>\n",
       "      <td>M Prefontaine</td>\n",
       "      <td>4.6</td>\n",
       "      <td>7955</td>\n",
       "      <td>5</td>\n",
       "      <td>2019</td>\n",
       "      <td>Non Fiction</td>\n",
       "    </tr>\n",
       "    <tr>\n",
       "      <th>84</th>\n",
       "      <td>Dog Man: Brawl of the Wild: From the Creator o...</td>\n",
       "      <td>Dav Pilkey</td>\n",
       "      <td>4.9</td>\n",
       "      <td>7235</td>\n",
       "      <td>4</td>\n",
       "      <td>2019</td>\n",
       "      <td>Fiction</td>\n",
       "    </tr>\n",
       "    <tr>\n",
       "      <th>85</th>\n",
       "      <td>Dog Man: Fetch-22: From the Creator of Captain...</td>\n",
       "      <td>Dav Pilkey</td>\n",
       "      <td>4.9</td>\n",
       "      <td>12619</td>\n",
       "      <td>8</td>\n",
       "      <td>2019</td>\n",
       "      <td>Fiction</td>\n",
       "    </tr>\n",
       "    <tr>\n",
       "      <th>86</th>\n",
       "      <td>Dog Man: For Whom the Ball Rolls: From the Cre...</td>\n",
       "      <td>Dav Pilkey</td>\n",
       "      <td>4.9</td>\n",
       "      <td>9089</td>\n",
       "      <td>8</td>\n",
       "      <td>2019</td>\n",
       "      <td>Fiction</td>\n",
       "    </tr>\n",
       "    <tr>\n",
       "      <th>98</th>\n",
       "      <td>Educated: A Memoir</td>\n",
       "      <td>Tara Westover</td>\n",
       "      <td>4.7</td>\n",
       "      <td>28729</td>\n",
       "      <td>15</td>\n",
       "      <td>2019</td>\n",
       "      <td>Non Fiction</td>\n",
       "    </tr>\n",
       "    <tr>\n",
       "      <th>127</th>\n",
       "      <td>Giraffes Can't Dance</td>\n",
       "      <td>Giles Andreae</td>\n",
       "      <td>4.8</td>\n",
       "      <td>14038</td>\n",
       "      <td>4</td>\n",
       "      <td>2019</td>\n",
       "      <td>Fiction</td>\n",
       "    </tr>\n",
       "    <tr>\n",
       "      <th>128</th>\n",
       "      <td>Girl, Stop Apologizing: A Shame-Free Plan for ...</td>\n",
       "      <td>Rachel Hollis</td>\n",
       "      <td>4.6</td>\n",
       "      <td>7660</td>\n",
       "      <td>12</td>\n",
       "      <td>2019</td>\n",
       "      <td>Non Fiction</td>\n",
       "    </tr>\n",
       "    <tr>\n",
       "      <th>130</th>\n",
       "      <td>Girl, Wash Your Face: Stop Believing the Lies ...</td>\n",
       "      <td>Rachel Hollis</td>\n",
       "      <td>4.6</td>\n",
       "      <td>22288</td>\n",
       "      <td>12</td>\n",
       "      <td>2019</td>\n",
       "      <td>Non Fiction</td>\n",
       "    </tr>\n",
       "    <tr>\n",
       "      <th>138</th>\n",
       "      <td>Good Days Start With Gratitude: A 52 Week Guid...</td>\n",
       "      <td>Pretty Simple Press</td>\n",
       "      <td>4.6</td>\n",
       "      <td>10141</td>\n",
       "      <td>6</td>\n",
       "      <td>2019</td>\n",
       "      <td>Non Fiction</td>\n",
       "    </tr>\n",
       "    <tr>\n",
       "      <th>145</th>\n",
       "      <td>Goodnight Moon</td>\n",
       "      <td>Margaret Wise Brown</td>\n",
       "      <td>4.8</td>\n",
       "      <td>8837</td>\n",
       "      <td>5</td>\n",
       "      <td>2019</td>\n",
       "      <td>Fiction</td>\n",
       "    </tr>\n",
       "    <tr>\n",
       "      <th>150</th>\n",
       "      <td>Guts</td>\n",
       "      <td>Raina Telgemeier</td>\n",
       "      <td>4.8</td>\n",
       "      <td>5476</td>\n",
       "      <td>7</td>\n",
       "      <td>2019</td>\n",
       "      <td>Non Fiction</td>\n",
       "    </tr>\n",
       "    <tr>\n",
       "      <th>155</th>\n",
       "      <td>Harry Potter and the Goblet of Fire: The Illus...</td>\n",
       "      <td>J. K. Rowling</td>\n",
       "      <td>4.9</td>\n",
       "      <td>7758</td>\n",
       "      <td>18</td>\n",
       "      <td>2019</td>\n",
       "      <td>Fiction</td>\n",
       "    </tr>\n",
       "    <tr>\n",
       "      <th>171</th>\n",
       "      <td>Howard Stern Comes Again</td>\n",
       "      <td>Howard Stern</td>\n",
       "      <td>4.3</td>\n",
       "      <td>5272</td>\n",
       "      <td>16</td>\n",
       "      <td>2019</td>\n",
       "      <td>Non Fiction</td>\n",
       "    </tr>\n",
       "    <tr>\n",
       "      <th>176</th>\n",
       "      <td>I Am Confident, Brave &amp; Beautiful: A Coloring ...</td>\n",
       "      <td>Hopscotch Girls</td>\n",
       "      <td>4.8</td>\n",
       "      <td>9737</td>\n",
       "      <td>7</td>\n",
       "      <td>2019</td>\n",
       "      <td>Non Fiction</td>\n",
       "    </tr>\n",
       "    <tr>\n",
       "      <th>179</th>\n",
       "      <td>If Animals Kissed Good Night</td>\n",
       "      <td>Ann Whitford Paul</td>\n",
       "      <td>4.8</td>\n",
       "      <td>16643</td>\n",
       "      <td>4</td>\n",
       "      <td>2019</td>\n",
       "      <td>Fiction</td>\n",
       "    </tr>\n",
       "    <tr>\n",
       "      <th>184</th>\n",
       "      <td>Instant Pot Pressure Cooker Cookbook: 500 Ever...</td>\n",
       "      <td>Jennifer Smith</td>\n",
       "      <td>4.4</td>\n",
       "      <td>7396</td>\n",
       "      <td>13</td>\n",
       "      <td>2019</td>\n",
       "      <td>Non Fiction</td>\n",
       "    </tr>\n",
       "    <tr>\n",
       "      <th>186</th>\n",
       "      <td>It's Not Supposed to Be This Way: Finding Unex...</td>\n",
       "      <td>Lysa TerKeurst</td>\n",
       "      <td>4.8</td>\n",
       "      <td>7062</td>\n",
       "      <td>12</td>\n",
       "      <td>2019</td>\n",
       "      <td>Non Fiction</td>\n",
       "    </tr>\n",
       "    <tr>\n",
       "      <th>239</th>\n",
       "      <td>National Geographic Kids Why?: Over 1,111 Answ...</td>\n",
       "      <td>Crispin Boyer</td>\n",
       "      <td>4.8</td>\n",
       "      <td>5347</td>\n",
       "      <td>16</td>\n",
       "      <td>2019</td>\n",
       "      <td>Non Fiction</td>\n",
       "    </tr>\n",
       "    <tr>\n",
       "      <th>240</th>\n",
       "      <td>National Geographic Little Kids First Big Book...</td>\n",
       "      <td>Amy Shields</td>\n",
       "      <td>4.8</td>\n",
       "      <td>7866</td>\n",
       "      <td>11</td>\n",
       "      <td>2019</td>\n",
       "      <td>Non Fiction</td>\n",
       "    </tr>\n",
       "    <tr>\n",
       "      <th>252</th>\n",
       "      <td>Oh, the Places You'll Go!</td>\n",
       "      <td>Dr. Seuss</td>\n",
       "      <td>4.9</td>\n",
       "      <td>21834</td>\n",
       "      <td>8</td>\n",
       "      <td>2019</td>\n",
       "      <td>Fiction</td>\n",
       "    </tr>\n",
       "    <tr>\n",
       "      <th>263</th>\n",
       "      <td>P is for Potty! (Sesame Street) (Lift-the-Flap)</td>\n",
       "      <td>Naomi Kleinberg</td>\n",
       "      <td>4.7</td>\n",
       "      <td>10820</td>\n",
       "      <td>5</td>\n",
       "      <td>2019</td>\n",
       "      <td>Non Fiction</td>\n",
       "    </tr>\n",
       "    <tr>\n",
       "      <th>267</th>\n",
       "      <td>Player's Handbook (Dungeons &amp; Dragons)</td>\n",
       "      <td>Wizards RPG Team</td>\n",
       "      <td>4.8</td>\n",
       "      <td>16990</td>\n",
       "      <td>27</td>\n",
       "      <td>2019</td>\n",
       "      <td>Fiction</td>\n",
       "    </tr>\n",
       "    <tr>\n",
       "      <th>291</th>\n",
       "      <td>Salt, Fat, Acid, Heat: Mastering the Elements ...</td>\n",
       "      <td>Samin Nosrat</td>\n",
       "      <td>4.8</td>\n",
       "      <td>7802</td>\n",
       "      <td>20</td>\n",
       "      <td>2019</td>\n",
       "      <td>Non Fiction</td>\n",
       "    </tr>\n",
       "    <tr>\n",
       "      <th>294</th>\n",
       "      <td>School Zone - Big Preschool Workbook - Ages 4 ...</td>\n",
       "      <td>School Zone</td>\n",
       "      <td>4.8</td>\n",
       "      <td>23047</td>\n",
       "      <td>6</td>\n",
       "      <td>2019</td>\n",
       "      <td>Non Fiction</td>\n",
       "    </tr>\n",
       "    <tr>\n",
       "      <th>303</th>\n",
       "      <td>Strange Planet (Strange Planet Series)</td>\n",
       "      <td>Nathan W. Pyle</td>\n",
       "      <td>4.9</td>\n",
       "      <td>9382</td>\n",
       "      <td>6</td>\n",
       "      <td>2019</td>\n",
       "      <td>Fiction</td>\n",
       "    </tr>\n",
       "    <tr>\n",
       "      <th>329</th>\n",
       "      <td>The 5 Love Languages: The Secret to Love that ...</td>\n",
       "      <td>Gary Chapman</td>\n",
       "      <td>4.8</td>\n",
       "      <td>25554</td>\n",
       "      <td>8</td>\n",
       "      <td>2019</td>\n",
       "      <td>Non Fiction</td>\n",
       "    </tr>\n",
       "    <tr>\n",
       "      <th>345</th>\n",
       "      <td>The Body Keeps the Score: Brain, Mind, and Bod...</td>\n",
       "      <td>Bessel van der Kolk M.D.</td>\n",
       "      <td>4.8</td>\n",
       "      <td>12361</td>\n",
       "      <td>12</td>\n",
       "      <td>2019</td>\n",
       "      <td>Non Fiction</td>\n",
       "    </tr>\n",
       "    <tr>\n",
       "      <th>356</th>\n",
       "      <td>The Complete Ketogenic Diet for Beginners: You...</td>\n",
       "      <td>Amy Ramos</td>\n",
       "      <td>4.3</td>\n",
       "      <td>13061</td>\n",
       "      <td>6</td>\n",
       "      <td>2019</td>\n",
       "      <td>Non Fiction</td>\n",
       "    </tr>\n",
       "    <tr>\n",
       "      <th>380</th>\n",
       "      <td>The Four Agreements: A Practical Guide to Pers...</td>\n",
       "      <td>Don Miguel Ruiz</td>\n",
       "      <td>4.7</td>\n",
       "      <td>23308</td>\n",
       "      <td>6</td>\n",
       "      <td>2019</td>\n",
       "      <td>Non Fiction</td>\n",
       "    </tr>\n",
       "    <tr>\n",
       "      <th>397</th>\n",
       "      <td>The Guardians: A Novel</td>\n",
       "      <td>John Grisham</td>\n",
       "      <td>4.5</td>\n",
       "      <td>13609</td>\n",
       "      <td>14</td>\n",
       "      <td>2019</td>\n",
       "      <td>Fiction</td>\n",
       "    </tr>\n",
       "    <tr>\n",
       "      <th>426</th>\n",
       "      <td>The Life-Changing Magic of Tidying Up: The Jap...</td>\n",
       "      <td>Marie Kondō</td>\n",
       "      <td>4.5</td>\n",
       "      <td>22641</td>\n",
       "      <td>11</td>\n",
       "      <td>2019</td>\n",
       "      <td>Non Fiction</td>\n",
       "    </tr>\n",
       "    <tr>\n",
       "      <th>436</th>\n",
       "      <td>The Mueller Report</td>\n",
       "      <td>The Washington Post</td>\n",
       "      <td>4.6</td>\n",
       "      <td>2744</td>\n",
       "      <td>12</td>\n",
       "      <td>2019</td>\n",
       "      <td>Non Fiction</td>\n",
       "    </tr>\n",
       "    <tr>\n",
       "      <th>462</th>\n",
       "      <td>The Silent Patient</td>\n",
       "      <td>Alex Michaelides</td>\n",
       "      <td>4.5</td>\n",
       "      <td>27536</td>\n",
       "      <td>14</td>\n",
       "      <td>2019</td>\n",
       "      <td>Fiction</td>\n",
       "    </tr>\n",
       "    <tr>\n",
       "      <th>466</th>\n",
       "      <td>The Subtle Art of Not Giving a F*ck: A Counter...</td>\n",
       "      <td>Mark Manson</td>\n",
       "      <td>4.6</td>\n",
       "      <td>26490</td>\n",
       "      <td>15</td>\n",
       "      <td>2019</td>\n",
       "      <td>Non Fiction</td>\n",
       "    </tr>\n",
       "    <tr>\n",
       "      <th>472</th>\n",
       "      <td>The Total Money Makeover: Classic Edition: A P...</td>\n",
       "      <td>Dave Ramsey</td>\n",
       "      <td>4.7</td>\n",
       "      <td>11550</td>\n",
       "      <td>10</td>\n",
       "      <td>2019</td>\n",
       "      <td>Non Fiction</td>\n",
       "    </tr>\n",
       "    <tr>\n",
       "      <th>475</th>\n",
       "      <td>The Unofficial Harry Potter Cookbook: From Cau...</td>\n",
       "      <td>Dinah Bucholz</td>\n",
       "      <td>4.7</td>\n",
       "      <td>9030</td>\n",
       "      <td>10</td>\n",
       "      <td>2019</td>\n",
       "      <td>Non Fiction</td>\n",
       "    </tr>\n",
       "    <tr>\n",
       "      <th>482</th>\n",
       "      <td>The Very Hungry Caterpillar</td>\n",
       "      <td>Eric Carle</td>\n",
       "      <td>4.9</td>\n",
       "      <td>19546</td>\n",
       "      <td>5</td>\n",
       "      <td>2019</td>\n",
       "      <td>Fiction</td>\n",
       "    </tr>\n",
       "    <tr>\n",
       "      <th>489</th>\n",
       "      <td>The Wonderful Things You Will Be</td>\n",
       "      <td>Emily Winfield Martin</td>\n",
       "      <td>4.9</td>\n",
       "      <td>8842</td>\n",
       "      <td>10</td>\n",
       "      <td>2019</td>\n",
       "      <td>Fiction</td>\n",
       "    </tr>\n",
       "    <tr>\n",
       "      <th>491</th>\n",
       "      <td>The Wonky Donkey</td>\n",
       "      <td>Craig Smith</td>\n",
       "      <td>4.8</td>\n",
       "      <td>30183</td>\n",
       "      <td>4</td>\n",
       "      <td>2019</td>\n",
       "      <td>Fiction</td>\n",
       "    </tr>\n",
       "    <tr>\n",
       "      <th>509</th>\n",
       "      <td>To Kill a Mockingbird</td>\n",
       "      <td>Harper Lee</td>\n",
       "      <td>4.8</td>\n",
       "      <td>26234</td>\n",
       "      <td>7</td>\n",
       "      <td>2019</td>\n",
       "      <td>Fiction</td>\n",
       "    </tr>\n",
       "    <tr>\n",
       "      <th>521</th>\n",
       "      <td>Unfreedom of the Press</td>\n",
       "      <td>Mark R. Levin</td>\n",
       "      <td>4.9</td>\n",
       "      <td>5956</td>\n",
       "      <td>11</td>\n",
       "      <td>2019</td>\n",
       "      <td>Non Fiction</td>\n",
       "    </tr>\n",
       "    <tr>\n",
       "      <th>522</th>\n",
       "      <td>Unicorn Coloring Book: For Kids Ages 4-8 (US E...</td>\n",
       "      <td>Silly Bear</td>\n",
       "      <td>4.8</td>\n",
       "      <td>6108</td>\n",
       "      <td>4</td>\n",
       "      <td>2019</td>\n",
       "      <td>Non Fiction</td>\n",
       "    </tr>\n",
       "    <tr>\n",
       "      <th>529</th>\n",
       "      <td>What Should Danny Do? (The Power to Choose Ser...</td>\n",
       "      <td>Adir Levy</td>\n",
       "      <td>4.8</td>\n",
       "      <td>8170</td>\n",
       "      <td>13</td>\n",
       "      <td>2019</td>\n",
       "      <td>Fiction</td>\n",
       "    </tr>\n",
       "    <tr>\n",
       "      <th>534</th>\n",
       "      <td>Where the Crawdads Sing</td>\n",
       "      <td>Delia Owens</td>\n",
       "      <td>4.8</td>\n",
       "      <td>87841</td>\n",
       "      <td>15</td>\n",
       "      <td>2019</td>\n",
       "      <td>Fiction</td>\n",
       "    </tr>\n",
       "    <tr>\n",
       "      <th>545</th>\n",
       "      <td>Wrecking Ball (Diary of a Wimpy Kid Book 14)</td>\n",
       "      <td>Jeff Kinney</td>\n",
       "      <td>4.9</td>\n",
       "      <td>9413</td>\n",
       "      <td>8</td>\n",
       "      <td>2019</td>\n",
       "      <td>Fiction</td>\n",
       "    </tr>\n",
       "    <tr>\n",
       "      <th>549</th>\n",
       "      <td>You Are a Badass: How to Stop Doubting Your Gr...</td>\n",
       "      <td>Jen Sincero</td>\n",
       "      <td>4.7</td>\n",
       "      <td>14331</td>\n",
       "      <td>8</td>\n",
       "      <td>2019</td>\n",
       "      <td>Non Fiction</td>\n",
       "    </tr>\n",
       "  </tbody>\n",
       "</table>\n",
       "</div>"
      ],
      "text/plain": [
       "                                                  Name  \\\n",
       "4    5,000 Awesome Facts (About Everything!) (Natio...   \n",
       "33                                            Becoming   \n",
       "41            Brown Bear, Brown Bear, What Do You See?   \n",
       "44   Can't Hurt Me: Master Your Mind and Defy the Odds   \n",
       "74   Difficult Riddles For Smart Kids: 300 Difficul...   \n",
       "84   Dog Man: Brawl of the Wild: From the Creator o...   \n",
       "85   Dog Man: Fetch-22: From the Creator of Captain...   \n",
       "86   Dog Man: For Whom the Ball Rolls: From the Cre...   \n",
       "98                                  Educated: A Memoir   \n",
       "127                               Giraffes Can't Dance   \n",
       "128  Girl, Stop Apologizing: A Shame-Free Plan for ...   \n",
       "130  Girl, Wash Your Face: Stop Believing the Lies ...   \n",
       "138  Good Days Start With Gratitude: A 52 Week Guid...   \n",
       "145                                     Goodnight Moon   \n",
       "150                                               Guts   \n",
       "155  Harry Potter and the Goblet of Fire: The Illus...   \n",
       "171                           Howard Stern Comes Again   \n",
       "176  I Am Confident, Brave & Beautiful: A Coloring ...   \n",
       "179                       If Animals Kissed Good Night   \n",
       "184  Instant Pot Pressure Cooker Cookbook: 500 Ever...   \n",
       "186  It's Not Supposed to Be This Way: Finding Unex...   \n",
       "239  National Geographic Kids Why?: Over 1,111 Answ...   \n",
       "240  National Geographic Little Kids First Big Book...   \n",
       "252                          Oh, the Places You'll Go!   \n",
       "263    P is for Potty! (Sesame Street) (Lift-the-Flap)   \n",
       "267             Player's Handbook (Dungeons & Dragons)   \n",
       "291  Salt, Fat, Acid, Heat: Mastering the Elements ...   \n",
       "294  School Zone - Big Preschool Workbook - Ages 4 ...   \n",
       "303             Strange Planet (Strange Planet Series)   \n",
       "329  The 5 Love Languages: The Secret to Love that ...   \n",
       "345  The Body Keeps the Score: Brain, Mind, and Bod...   \n",
       "356  The Complete Ketogenic Diet for Beginners: You...   \n",
       "380  The Four Agreements: A Practical Guide to Pers...   \n",
       "397                             The Guardians: A Novel   \n",
       "426  The Life-Changing Magic of Tidying Up: The Jap...   \n",
       "436                                 The Mueller Report   \n",
       "462                                 The Silent Patient   \n",
       "466  The Subtle Art of Not Giving a F*ck: A Counter...   \n",
       "472  The Total Money Makeover: Classic Edition: A P...   \n",
       "475  The Unofficial Harry Potter Cookbook: From Cau...   \n",
       "482                        The Very Hungry Caterpillar   \n",
       "489                   The Wonderful Things You Will Be   \n",
       "491                                   The Wonky Donkey   \n",
       "509                              To Kill a Mockingbird   \n",
       "521                             Unfreedom of the Press   \n",
       "522  Unicorn Coloring Book: For Kids Ages 4-8 (US E...   \n",
       "529  What Should Danny Do? (The Power to Choose Ser...   \n",
       "534                            Where the Crawdads Sing   \n",
       "545       Wrecking Ball (Diary of a Wimpy Kid Book 14)   \n",
       "549  You Are a Badass: How to Stop Doubting Your Gr...   \n",
       "\n",
       "                       Author  User Rating  Reviews  Price  Year        Genre  \n",
       "4    National Geographic Kids          4.8     7665     12  2019  Non Fiction  \n",
       "33             Michelle Obama          4.8    61133     11  2019  Non Fiction  \n",
       "41            Bill Martin Jr.          4.9    14344      5  2019      Fiction  \n",
       "44              David Goggins          4.8    16244     18  2019  Non Fiction  \n",
       "74              M Prefontaine          4.6     7955      5  2019  Non Fiction  \n",
       "84                 Dav Pilkey          4.9     7235      4  2019      Fiction  \n",
       "85                 Dav Pilkey          4.9    12619      8  2019      Fiction  \n",
       "86                 Dav Pilkey          4.9     9089      8  2019      Fiction  \n",
       "98              Tara Westover          4.7    28729     15  2019  Non Fiction  \n",
       "127             Giles Andreae          4.8    14038      4  2019      Fiction  \n",
       "128             Rachel Hollis          4.6     7660     12  2019  Non Fiction  \n",
       "130             Rachel Hollis          4.6    22288     12  2019  Non Fiction  \n",
       "138       Pretty Simple Press          4.6    10141      6  2019  Non Fiction  \n",
       "145       Margaret Wise Brown          4.8     8837      5  2019      Fiction  \n",
       "150          Raina Telgemeier          4.8     5476      7  2019  Non Fiction  \n",
       "155             J. K. Rowling          4.9     7758     18  2019      Fiction  \n",
       "171              Howard Stern          4.3     5272     16  2019  Non Fiction  \n",
       "176           Hopscotch Girls          4.8     9737      7  2019  Non Fiction  \n",
       "179         Ann Whitford Paul          4.8    16643      4  2019      Fiction  \n",
       "184            Jennifer Smith          4.4     7396     13  2019  Non Fiction  \n",
       "186            Lysa TerKeurst          4.8     7062     12  2019  Non Fiction  \n",
       "239             Crispin Boyer          4.8     5347     16  2019  Non Fiction  \n",
       "240               Amy Shields          4.8     7866     11  2019  Non Fiction  \n",
       "252                 Dr. Seuss          4.9    21834      8  2019      Fiction  \n",
       "263           Naomi Kleinberg          4.7    10820      5  2019  Non Fiction  \n",
       "267          Wizards RPG Team          4.8    16990     27  2019      Fiction  \n",
       "291              Samin Nosrat          4.8     7802     20  2019  Non Fiction  \n",
       "294               School Zone          4.8    23047      6  2019  Non Fiction  \n",
       "303            Nathan W. Pyle          4.9     9382      6  2019      Fiction  \n",
       "329              Gary Chapman          4.8    25554      8  2019  Non Fiction  \n",
       "345  Bessel van der Kolk M.D.          4.8    12361     12  2019  Non Fiction  \n",
       "356                 Amy Ramos          4.3    13061      6  2019  Non Fiction  \n",
       "380           Don Miguel Ruiz          4.7    23308      6  2019  Non Fiction  \n",
       "397              John Grisham          4.5    13609     14  2019      Fiction  \n",
       "426               Marie Kondō          4.5    22641     11  2019  Non Fiction  \n",
       "436       The Washington Post          4.6     2744     12  2019  Non Fiction  \n",
       "462          Alex Michaelides          4.5    27536     14  2019      Fiction  \n",
       "466               Mark Manson          4.6    26490     15  2019  Non Fiction  \n",
       "472               Dave Ramsey          4.7    11550     10  2019  Non Fiction  \n",
       "475             Dinah Bucholz          4.7     9030     10  2019  Non Fiction  \n",
       "482                Eric Carle          4.9    19546      5  2019      Fiction  \n",
       "489     Emily Winfield Martin          4.9     8842     10  2019      Fiction  \n",
       "491               Craig Smith          4.8    30183      4  2019      Fiction  \n",
       "509                Harper Lee          4.8    26234      7  2019      Fiction  \n",
       "521             Mark R. Levin          4.9     5956     11  2019  Non Fiction  \n",
       "522                Silly Bear          4.8     6108      4  2019  Non Fiction  \n",
       "529                 Adir Levy          4.8     8170     13  2019      Fiction  \n",
       "534               Delia Owens          4.8    87841     15  2019      Fiction  \n",
       "545               Jeff Kinney          4.9     9413      8  2019      Fiction  \n",
       "549               Jen Sincero          4.7    14331      8  2019  Non Fiction  "
      ]
     },
     "execution_count": 6,
     "metadata": {},
     "output_type": "execute_result"
    }
   ],
   "source": [
    "data[data['Year']==2019]"
   ]
  },
  {
   "cell_type": "code",
   "execution_count": 7,
   "id": "b16ab5a2",
   "metadata": {},
   "outputs": [
    {
     "data": {
      "text/plain": [
       "(50, 7)"
      ]
     },
     "execution_count": 7,
     "metadata": {},
     "output_type": "execute_result"
    }
   ],
   "source": [
    "data[data['Year']==2019].shape"
   ]
  },
  {
   "cell_type": "code",
   "execution_count": 28,
   "id": "971a3f68",
   "metadata": {},
   "outputs": [
    {
     "data": {
      "text/html": [
       "<div>\n",
       "<style scoped>\n",
       "    .dataframe tbody tr th:only-of-type {\n",
       "        vertical-align: middle;\n",
       "    }\n",
       "\n",
       "    .dataframe tbody tr th {\n",
       "        vertical-align: top;\n",
       "    }\n",
       "\n",
       "    .dataframe thead th {\n",
       "        text-align: right;\n",
       "    }\n",
       "</style>\n",
       "<table border=\"1\" class=\"dataframe\">\n",
       "  <thead>\n",
       "    <tr style=\"text-align: right;\">\n",
       "      <th></th>\n",
       "      <th>Name</th>\n",
       "      <th>Author</th>\n",
       "      <th>User Rating</th>\n",
       "      <th>Reviews</th>\n",
       "      <th>Price</th>\n",
       "      <th>Year</th>\n",
       "      <th>Genre</th>\n",
       "    </tr>\n",
       "  </thead>\n",
       "  <tbody>\n",
       "    <tr>\n",
       "      <th>69</th>\n",
       "      <td>Diagnostic and Statistical Manual of Mental Di...</td>\n",
       "      <td>American Psychiatric Association</td>\n",
       "      <td>4.5</td>\n",
       "      <td>6679</td>\n",
       "      <td>105</td>\n",
       "      <td>2013</td>\n",
       "      <td>Non Fiction</td>\n",
       "    </tr>\n",
       "    <tr>\n",
       "      <th>70</th>\n",
       "      <td>Diagnostic and Statistical Manual of Mental Di...</td>\n",
       "      <td>American Psychiatric Association</td>\n",
       "      <td>4.5</td>\n",
       "      <td>6679</td>\n",
       "      <td>105</td>\n",
       "      <td>2014</td>\n",
       "      <td>Non Fiction</td>\n",
       "    </tr>\n",
       "    <tr>\n",
       "      <th>151</th>\n",
       "      <td>Hamilton: The Revolution</td>\n",
       "      <td>Lin-Manuel Miranda</td>\n",
       "      <td>4.9</td>\n",
       "      <td>5867</td>\n",
       "      <td>54</td>\n",
       "      <td>2016</td>\n",
       "      <td>Non Fiction</td>\n",
       "    </tr>\n",
       "    <tr>\n",
       "      <th>159</th>\n",
       "      <td>Harry Potter Paperback Box Set (Books 1-7)</td>\n",
       "      <td>J. K. Rowling</td>\n",
       "      <td>4.8</td>\n",
       "      <td>13471</td>\n",
       "      <td>52</td>\n",
       "      <td>2016</td>\n",
       "      <td>Fiction</td>\n",
       "    </tr>\n",
       "    <tr>\n",
       "      <th>346</th>\n",
       "      <td>The Book of Basketball: The NBA According to T...</td>\n",
       "      <td>Bill Simmons</td>\n",
       "      <td>4.7</td>\n",
       "      <td>858</td>\n",
       "      <td>53</td>\n",
       "      <td>2009</td>\n",
       "      <td>Non Fiction</td>\n",
       "    </tr>\n",
       "    <tr>\n",
       "      <th>473</th>\n",
       "      <td>The Twilight Saga Collection</td>\n",
       "      <td>Stephenie Meyer</td>\n",
       "      <td>4.7</td>\n",
       "      <td>3801</td>\n",
       "      <td>82</td>\n",
       "      <td>2009</td>\n",
       "      <td>Fiction</td>\n",
       "    </tr>\n",
       "  </tbody>\n",
       "</table>\n",
       "</div>"
      ],
      "text/plain": [
       "                                                  Name  \\\n",
       "69   Diagnostic and Statistical Manual of Mental Di...   \n",
       "70   Diagnostic and Statistical Manual of Mental Di...   \n",
       "151                           Hamilton: The Revolution   \n",
       "159         Harry Potter Paperback Box Set (Books 1-7)   \n",
       "346  The Book of Basketball: The NBA According to T...   \n",
       "473                       The Twilight Saga Collection   \n",
       "\n",
       "                               Author  User Rating  Reviews  Price  Year  \\\n",
       "69   American Psychiatric Association          4.5     6679    105  2013   \n",
       "70   American Psychiatric Association          4.5     6679    105  2014   \n",
       "151                Lin-Manuel Miranda          4.9     5867     54  2016   \n",
       "159                     J. K. Rowling          4.8    13471     52  2016   \n",
       "346                      Bill Simmons          4.7      858     53  2009   \n",
       "473                   Stephenie Meyer          4.7     3801     82  2009   \n",
       "\n",
       "           Genre  \n",
       "69   Non Fiction  \n",
       "70   Non Fiction  \n",
       "151  Non Fiction  \n",
       "159      Fiction  \n",
       "346  Non Fiction  \n",
       "473      Fiction  "
      ]
     },
     "execution_count": 28,
     "metadata": {},
     "output_type": "execute_result"
    }
   ],
   "source": [
    "data[data['Price']>50]"
   ]
  },
  {
   "cell_type": "code",
   "execution_count": 25,
   "id": "37a2ac74",
   "metadata": {},
   "outputs": [
    {
     "data": {
      "text/html": [
       "<div>\n",
       "<style scoped>\n",
       "    .dataframe tbody tr th:only-of-type {\n",
       "        vertical-align: middle;\n",
       "    }\n",
       "\n",
       "    .dataframe tbody tr th {\n",
       "        vertical-align: top;\n",
       "    }\n",
       "\n",
       "    .dataframe thead th {\n",
       "        text-align: right;\n",
       "    }\n",
       "</style>\n",
       "<table border=\"1\" class=\"dataframe\">\n",
       "  <thead>\n",
       "    <tr style=\"text-align: right;\">\n",
       "      <th></th>\n",
       "      <th>Name</th>\n",
       "      <th>Author</th>\n",
       "      <th>User Rating</th>\n",
       "      <th>Reviews</th>\n",
       "      <th>Price</th>\n",
       "      <th>Year</th>\n",
       "      <th>Genre</th>\n",
       "    </tr>\n",
       "  </thead>\n",
       "  <tbody>\n",
       "    <tr>\n",
       "      <th>91</th>\n",
       "      <td>Eat This Not That! Supermarket Survival Guide:...</td>\n",
       "      <td>David Zinczenko</td>\n",
       "      <td>4.5</td>\n",
       "      <td>720</td>\n",
       "      <td>1</td>\n",
       "      <td>2009</td>\n",
       "      <td>Non Fiction</td>\n",
       "    </tr>\n",
       "    <tr>\n",
       "      <th>92</th>\n",
       "      <td>Eat This, Not That! Thousands of Simple Food S...</td>\n",
       "      <td>David Zinczenko</td>\n",
       "      <td>4.3</td>\n",
       "      <td>956</td>\n",
       "      <td>14</td>\n",
       "      <td>2009</td>\n",
       "      <td>Non Fiction</td>\n",
       "    </tr>\n",
       "    <tr>\n",
       "      <th>93</th>\n",
       "      <td>Eat to Live: The Amazing Nutrient-Rich Program...</td>\n",
       "      <td>Joel Fuhrman MD</td>\n",
       "      <td>4.5</td>\n",
       "      <td>6346</td>\n",
       "      <td>9</td>\n",
       "      <td>2011</td>\n",
       "      <td>Non Fiction</td>\n",
       "    </tr>\n",
       "    <tr>\n",
       "      <th>94</th>\n",
       "      <td>Eat to Live: The Amazing Nutrient-Rich Program...</td>\n",
       "      <td>Joel Fuhrman MD</td>\n",
       "      <td>4.5</td>\n",
       "      <td>6346</td>\n",
       "      <td>9</td>\n",
       "      <td>2012</td>\n",
       "      <td>Non Fiction</td>\n",
       "    </tr>\n",
       "    <tr>\n",
       "      <th>95</th>\n",
       "      <td>Eclipse (Twilight Sagas)</td>\n",
       "      <td>Stephenie Meyer</td>\n",
       "      <td>4.7</td>\n",
       "      <td>5505</td>\n",
       "      <td>7</td>\n",
       "      <td>2009</td>\n",
       "      <td>Fiction</td>\n",
       "    </tr>\n",
       "    <tr>\n",
       "      <th>96</th>\n",
       "      <td>Eclipse (Twilight)</td>\n",
       "      <td>Stephenie Meyer</td>\n",
       "      <td>4.7</td>\n",
       "      <td>5505</td>\n",
       "      <td>18</td>\n",
       "      <td>2009</td>\n",
       "      <td>Fiction</td>\n",
       "    </tr>\n",
       "    <tr>\n",
       "      <th>97</th>\n",
       "      <td>Educated: A Memoir</td>\n",
       "      <td>Tara Westover</td>\n",
       "      <td>4.7</td>\n",
       "      <td>28729</td>\n",
       "      <td>15</td>\n",
       "      <td>2018</td>\n",
       "      <td>Non Fiction</td>\n",
       "    </tr>\n",
       "    <tr>\n",
       "      <th>98</th>\n",
       "      <td>Educated: A Memoir</td>\n",
       "      <td>Tara Westover</td>\n",
       "      <td>4.7</td>\n",
       "      <td>28729</td>\n",
       "      <td>15</td>\n",
       "      <td>2019</td>\n",
       "      <td>Non Fiction</td>\n",
       "    </tr>\n",
       "    <tr>\n",
       "      <th>99</th>\n",
       "      <td>Enchanted Forest: An Inky Quest and Coloring b...</td>\n",
       "      <td>Johanna Basford</td>\n",
       "      <td>4.7</td>\n",
       "      <td>5413</td>\n",
       "      <td>9</td>\n",
       "      <td>2015</td>\n",
       "      <td>Non Fiction</td>\n",
       "    </tr>\n",
       "  </tbody>\n",
       "</table>\n",
       "</div>"
      ],
      "text/plain": [
       "                                                 Name           Author  \\\n",
       "91  Eat This Not That! Supermarket Survival Guide:...  David Zinczenko   \n",
       "92  Eat This, Not That! Thousands of Simple Food S...  David Zinczenko   \n",
       "93  Eat to Live: The Amazing Nutrient-Rich Program...  Joel Fuhrman MD   \n",
       "94  Eat to Live: The Amazing Nutrient-Rich Program...  Joel Fuhrman MD   \n",
       "95                           Eclipse (Twilight Sagas)  Stephenie Meyer   \n",
       "96                                 Eclipse (Twilight)  Stephenie Meyer   \n",
       "97                                 Educated: A Memoir    Tara Westover   \n",
       "98                                 Educated: A Memoir    Tara Westover   \n",
       "99  Enchanted Forest: An Inky Quest and Coloring b...  Johanna Basford   \n",
       "\n",
       "    User Rating  Reviews  Price  Year        Genre  \n",
       "91          4.5      720      1  2009  Non Fiction  \n",
       "92          4.3      956     14  2009  Non Fiction  \n",
       "93          4.5     6346      9  2011  Non Fiction  \n",
       "94          4.5     6346      9  2012  Non Fiction  \n",
       "95          4.7     5505      7  2009      Fiction  \n",
       "96          4.7     5505     18  2009      Fiction  \n",
       "97          4.7    28729     15  2018  Non Fiction  \n",
       "98          4.7    28729     15  2019  Non Fiction  \n",
       "99          4.7     5413      9  2015  Non Fiction  "
      ]
     },
     "execution_count": 25,
     "metadata": {},
     "output_type": "execute_result"
    }
   ],
   "source": [
    "data[data['Name'].str.startswith('E')]"
   ]
  },
  {
   "cell_type": "code",
   "execution_count": 10,
   "id": "387bcab4",
   "metadata": {},
   "outputs": [
    {
     "data": {
      "text/html": [
       "<div>\n",
       "<style scoped>\n",
       "    .dataframe tbody tr th:only-of-type {\n",
       "        vertical-align: middle;\n",
       "    }\n",
       "\n",
       "    .dataframe tbody tr th {\n",
       "        vertical-align: top;\n",
       "    }\n",
       "\n",
       "    .dataframe thead th {\n",
       "        text-align: right;\n",
       "    }\n",
       "</style>\n",
       "<table border=\"1\" class=\"dataframe\">\n",
       "  <thead>\n",
       "    <tr style=\"text-align: right;\">\n",
       "      <th></th>\n",
       "      <th>Name</th>\n",
       "      <th>Author</th>\n",
       "      <th>User Rating</th>\n",
       "      <th>Reviews</th>\n",
       "      <th>Price</th>\n",
       "      <th>Year</th>\n",
       "      <th>Genre</th>\n",
       "    </tr>\n",
       "  </thead>\n",
       "  <tbody>\n",
       "    <tr>\n",
       "      <th>1</th>\n",
       "      <td>11/22/63: A Novel</td>\n",
       "      <td>Stephen King</td>\n",
       "      <td>4.6</td>\n",
       "      <td>2052</td>\n",
       "      <td>22</td>\n",
       "      <td>2011</td>\n",
       "      <td>Fiction</td>\n",
       "    </tr>\n",
       "    <tr>\n",
       "      <th>12</th>\n",
       "      <td>A Stolen Life: A Memoir</td>\n",
       "      <td>Jaycee Dugard</td>\n",
       "      <td>4.6</td>\n",
       "      <td>4149</td>\n",
       "      <td>32</td>\n",
       "      <td>2011</td>\n",
       "      <td>Non Fiction</td>\n",
       "    </tr>\n",
       "    <tr>\n",
       "      <th>15</th>\n",
       "      <td>Adult Coloring Book Designs: Stress Relief Col...</td>\n",
       "      <td>Adult Coloring Book Designs</td>\n",
       "      <td>4.5</td>\n",
       "      <td>2313</td>\n",
       "      <td>4</td>\n",
       "      <td>2016</td>\n",
       "      <td>Non Fiction</td>\n",
       "    </tr>\n",
       "    <tr>\n",
       "      <th>16</th>\n",
       "      <td>Adult Coloring Book: Stress Relieving Animal D...</td>\n",
       "      <td>Blue Star Coloring</td>\n",
       "      <td>4.6</td>\n",
       "      <td>2925</td>\n",
       "      <td>6</td>\n",
       "      <td>2015</td>\n",
       "      <td>Non Fiction</td>\n",
       "    </tr>\n",
       "    <tr>\n",
       "      <th>17</th>\n",
       "      <td>Adult Coloring Book: Stress Relieving Patterns</td>\n",
       "      <td>Blue Star Coloring</td>\n",
       "      <td>4.4</td>\n",
       "      <td>2951</td>\n",
       "      <td>6</td>\n",
       "      <td>2015</td>\n",
       "      <td>Non Fiction</td>\n",
       "    </tr>\n",
       "    <tr>\n",
       "      <th>...</th>\n",
       "      <td>...</td>\n",
       "      <td>...</td>\n",
       "      <td>...</td>\n",
       "      <td>...</td>\n",
       "      <td>...</td>\n",
       "      <td>...</td>\n",
       "      <td>...</td>\n",
       "    </tr>\n",
       "    <tr>\n",
       "      <th>523</th>\n",
       "      <td>Uninvited: Living Loved When You Feel Less Tha...</td>\n",
       "      <td>Lysa TerKeurst</td>\n",
       "      <td>4.7</td>\n",
       "      <td>4585</td>\n",
       "      <td>9</td>\n",
       "      <td>2016</td>\n",
       "      <td>Non Fiction</td>\n",
       "    </tr>\n",
       "    <tr>\n",
       "      <th>524</th>\n",
       "      <td>Watchmen</td>\n",
       "      <td>Alan Moore</td>\n",
       "      <td>4.8</td>\n",
       "      <td>3829</td>\n",
       "      <td>42</td>\n",
       "      <td>2009</td>\n",
       "      <td>Fiction</td>\n",
       "    </tr>\n",
       "    <tr>\n",
       "      <th>528</th>\n",
       "      <td>What Pet Should I Get? (Classic Seuss)</td>\n",
       "      <td>Dr. Seuss</td>\n",
       "      <td>4.7</td>\n",
       "      <td>1873</td>\n",
       "      <td>14</td>\n",
       "      <td>2015</td>\n",
       "      <td>Fiction</td>\n",
       "    </tr>\n",
       "    <tr>\n",
       "      <th>530</th>\n",
       "      <td>What to Expect When You're Expecting</td>\n",
       "      <td>Heidi Murkoff</td>\n",
       "      <td>4.4</td>\n",
       "      <td>3341</td>\n",
       "      <td>9</td>\n",
       "      <td>2011</td>\n",
       "      <td>Non Fiction</td>\n",
       "    </tr>\n",
       "    <tr>\n",
       "      <th>539</th>\n",
       "      <td>Women Food and God: An Unexpected Path to Almo...</td>\n",
       "      <td>Geneen Roth</td>\n",
       "      <td>4.2</td>\n",
       "      <td>1302</td>\n",
       "      <td>11</td>\n",
       "      <td>2010</td>\n",
       "      <td>Non Fiction</td>\n",
       "    </tr>\n",
       "  </tbody>\n",
       "</table>\n",
       "<p>146 rows × 7 columns</p>\n",
       "</div>"
      ],
      "text/plain": [
       "                                                  Name  \\\n",
       "1                                    11/22/63: A Novel   \n",
       "12                             A Stolen Life: A Memoir   \n",
       "15   Adult Coloring Book Designs: Stress Relief Col...   \n",
       "16   Adult Coloring Book: Stress Relieving Animal D...   \n",
       "17      Adult Coloring Book: Stress Relieving Patterns   \n",
       "..                                                 ...   \n",
       "523  Uninvited: Living Loved When You Feel Less Tha...   \n",
       "524                                           Watchmen   \n",
       "528             What Pet Should I Get? (Classic Seuss)   \n",
       "530               What to Expect When You're Expecting   \n",
       "539  Women Food and God: An Unexpected Path to Almo...   \n",
       "\n",
       "                          Author  User Rating  Reviews  Price  Year  \\\n",
       "1                   Stephen King          4.6     2052     22  2011   \n",
       "12                 Jaycee Dugard          4.6     4149     32  2011   \n",
       "15   Adult Coloring Book Designs          4.5     2313      4  2016   \n",
       "16            Blue Star Coloring          4.6     2925      6  2015   \n",
       "17            Blue Star Coloring          4.4     2951      6  2015   \n",
       "..                           ...          ...      ...    ...   ...   \n",
       "523               Lysa TerKeurst          4.7     4585      9  2016   \n",
       "524                   Alan Moore          4.8     3829     42  2009   \n",
       "528                    Dr. Seuss          4.7     1873     14  2015   \n",
       "530                Heidi Murkoff          4.4     3341      9  2011   \n",
       "539                  Geneen Roth          4.2     1302     11  2010   \n",
       "\n",
       "           Genre  \n",
       "1        Fiction  \n",
       "12   Non Fiction  \n",
       "15   Non Fiction  \n",
       "16   Non Fiction  \n",
       "17   Non Fiction  \n",
       "..           ...  \n",
       "523  Non Fiction  \n",
       "524      Fiction  \n",
       "528      Fiction  \n",
       "530  Non Fiction  \n",
       "539  Non Fiction  \n",
       "\n",
       "[146 rows x 7 columns]"
      ]
     },
     "execution_count": 10,
     "metadata": {},
     "output_type": "execute_result"
    }
   ],
   "source": [
    "data[(data['Reviews']>=1000)&(data['Reviews']<=5000)]"
   ]
  },
  {
   "cell_type": "markdown",
   "id": "e04fc59d",
   "metadata": {},
   "source": [
    "## Book Names and their Prices"
   ]
  },
  {
   "cell_type": "code",
   "execution_count": 11,
   "id": "6a3dc9a6",
   "metadata": {},
   "outputs": [
    {
     "data": {
      "text/plain": [
       "Name\n",
       "10-Day Green Smoothie Cleanse                                                              8\n",
       "11/22/63: A Novel                                                                         22\n",
       "12 Rules for Life: An Antidote to Chaos                                                   15\n",
       "1984 (Signet Classics)                                                                     6\n",
       "5,000 Awesome Facts (About Everything!) (National Geographic Kids)                        12\n",
       "                                                                                          ..\n",
       "Winter of the World: Book Two of the Century Trilogy                                      15\n",
       "Women Food and God: An Unexpected Path to Almost Everything                               11\n",
       "Wonder                                                                                    45\n",
       "Wrecking Ball (Diary of a Wimpy Kid Book 14)                                               8\n",
       "You Are a Badass: How to Stop Doubting Your Greatness and Start Living an Awesome Life    32\n",
       "Name: Price, Length: 351, dtype: int64"
      ]
     },
     "execution_count": 11,
     "metadata": {},
     "output_type": "execute_result"
    }
   ],
   "source": [
    "data.groupby('Name').Price.sum() "
   ]
  },
  {
   "cell_type": "markdown",
   "id": "7cd4a3cc",
   "metadata": {},
   "source": [
    "## Find The Author : Jaycee Dugard"
   ]
  },
  {
   "cell_type": "code",
   "execution_count": 12,
   "id": "99a7ab31",
   "metadata": {},
   "outputs": [
    {
     "data": {
      "text/html": [
       "<div>\n",
       "<style scoped>\n",
       "    .dataframe tbody tr th:only-of-type {\n",
       "        vertical-align: middle;\n",
       "    }\n",
       "\n",
       "    .dataframe tbody tr th {\n",
       "        vertical-align: top;\n",
       "    }\n",
       "\n",
       "    .dataframe thead th {\n",
       "        text-align: right;\n",
       "    }\n",
       "</style>\n",
       "<table border=\"1\" class=\"dataframe\">\n",
       "  <thead>\n",
       "    <tr style=\"text-align: right;\">\n",
       "      <th></th>\n",
       "      <th>Name</th>\n",
       "      <th>Author</th>\n",
       "      <th>User Rating</th>\n",
       "      <th>Reviews</th>\n",
       "      <th>Price</th>\n",
       "      <th>Year</th>\n",
       "      <th>Genre</th>\n",
       "    </tr>\n",
       "  </thead>\n",
       "  <tbody>\n",
       "    <tr>\n",
       "      <th>12</th>\n",
       "      <td>A Stolen Life: A Memoir</td>\n",
       "      <td>Jaycee Dugard</td>\n",
       "      <td>4.6</td>\n",
       "      <td>4149</td>\n",
       "      <td>32</td>\n",
       "      <td>2011</td>\n",
       "      <td>Non Fiction</td>\n",
       "    </tr>\n",
       "  </tbody>\n",
       "</table>\n",
       "</div>"
      ],
      "text/plain": [
       "                       Name         Author  User Rating  Reviews  Price  Year  \\\n",
       "12  A Stolen Life: A Memoir  Jaycee Dugard          4.6     4149     32  2011   \n",
       "\n",
       "          Genre  \n",
       "12  Non Fiction  "
      ]
     },
     "execution_count": 12,
     "metadata": {},
     "output_type": "execute_result"
    }
   ],
   "source": [
    "data[data.Author=='Jaycee Dugard']"
   ]
  },
  {
   "cell_type": "markdown",
   "id": "9c40ce32",
   "metadata": {},
   "source": [
    "## Top 10 Bestselling books over many years"
   ]
  },
  {
   "cell_type": "code",
   "execution_count": 54,
   "id": "64824ac6",
   "metadata": {},
   "outputs": [
    {
     "data": {
      "text/html": [
       "<div>\n",
       "<style scoped>\n",
       "    .dataframe tbody tr th:only-of-type {\n",
       "        vertical-align: middle;\n",
       "    }\n",
       "\n",
       "    .dataframe tbody tr th {\n",
       "        vertical-align: top;\n",
       "    }\n",
       "\n",
       "    .dataframe thead th {\n",
       "        text-align: right;\n",
       "    }\n",
       "</style>\n",
       "<table border=\"1\" class=\"dataframe\">\n",
       "  <thead>\n",
       "    <tr style=\"text-align: right;\">\n",
       "      <th></th>\n",
       "      <th>Best SellingBooks</th>\n",
       "      <th>Bestselling Times</th>\n",
       "    </tr>\n",
       "  </thead>\n",
       "  <tbody>\n",
       "    <tr>\n",
       "      <th>0</th>\n",
       "      <td>Publication Manual of the American Psychologic...</td>\n",
       "      <td>10</td>\n",
       "    </tr>\n",
       "    <tr>\n",
       "      <th>1</th>\n",
       "      <td>StrengthsFinder 2.0</td>\n",
       "      <td>9</td>\n",
       "    </tr>\n",
       "    <tr>\n",
       "      <th>2</th>\n",
       "      <td>Oh, the Places You'll Go!</td>\n",
       "      <td>8</td>\n",
       "    </tr>\n",
       "    <tr>\n",
       "      <th>3</th>\n",
       "      <td>The Very Hungry Caterpillar</td>\n",
       "      <td>7</td>\n",
       "    </tr>\n",
       "    <tr>\n",
       "      <th>4</th>\n",
       "      <td>The 7 Habits of Highly Effective People: Power...</td>\n",
       "      <td>7</td>\n",
       "    </tr>\n",
       "    <tr>\n",
       "      <th>5</th>\n",
       "      <td>The Four Agreements: A Practical Guide to Pers...</td>\n",
       "      <td>6</td>\n",
       "    </tr>\n",
       "    <tr>\n",
       "      <th>6</th>\n",
       "      <td>Jesus Calling: Enjoying Peace in His Presence ...</td>\n",
       "      <td>6</td>\n",
       "    </tr>\n",
       "    <tr>\n",
       "      <th>7</th>\n",
       "      <td>The Official SAT Study Guide</td>\n",
       "      <td>5</td>\n",
       "    </tr>\n",
       "    <tr>\n",
       "      <th>8</th>\n",
       "      <td>To Kill a Mockingbird</td>\n",
       "      <td>5</td>\n",
       "    </tr>\n",
       "    <tr>\n",
       "      <th>9</th>\n",
       "      <td>The 5 Love Languages: The Secret to Love That ...</td>\n",
       "      <td>5</td>\n",
       "    </tr>\n",
       "  </tbody>\n",
       "</table>\n",
       "</div>"
      ],
      "text/plain": [
       "                                   Best SellingBooks  Bestselling Times\n",
       "0  Publication Manual of the American Psychologic...                 10\n",
       "1                                StrengthsFinder 2.0                  9\n",
       "2                          Oh, the Places You'll Go!                  8\n",
       "3                        The Very Hungry Caterpillar                  7\n",
       "4  The 7 Habits of Highly Effective People: Power...                  7\n",
       "5  The Four Agreements: A Practical Guide to Pers...                  6\n",
       "6  Jesus Calling: Enjoying Peace in His Presence ...                  6\n",
       "7                       The Official SAT Study Guide                  5\n",
       "8                              To Kill a Mockingbird                  5\n",
       "9  The 5 Love Languages: The Secret to Love That ...                  5"
      ]
     },
     "execution_count": 54,
     "metadata": {},
     "output_type": "execute_result"
    }
   ],
   "source": [
    "best_books=data['Name'].value_counts()\n",
    "\n",
    "books_names=[] \n",
    "book_times=[]\n",
    "for i in range(len(best_books)):\n",
    "    \n",
    "    books_names.append(best_books.keys()[i])\n",
    "    book_times.append(best_books[i])\n",
    "bestselling_books=pd.DataFrame({'Best SellingBooks':books_names,'Bestselling Times':book_times})\n",
    "bestselling_books.head(10)# rename columns"
   ]
  },
  {
   "cell_type": "markdown",
   "id": "dad3d6cb",
   "metadata": {},
   "source": [
    "## Top authors based on amount of bestselling books written by them"
   ]
  },
  {
   "cell_type": "code",
   "execution_count": 55,
   "id": "e0cd0cd0",
   "metadata": {},
   "outputs": [
    {
     "data": {
      "text/html": [
       "<div>\n",
       "<style scoped>\n",
       "    .dataframe tbody tr th:only-of-type {\n",
       "        vertical-align: middle;\n",
       "    }\n",
       "\n",
       "    .dataframe tbody tr th {\n",
       "        vertical-align: top;\n",
       "    }\n",
       "\n",
       "    .dataframe thead th {\n",
       "        text-align: right;\n",
       "    }\n",
       "</style>\n",
       "<table border=\"1\" class=\"dataframe\">\n",
       "  <thead>\n",
       "    <tr style=\"text-align: right;\">\n",
       "      <th></th>\n",
       "      <th>Author</th>\n",
       "      <th>Number of Times</th>\n",
       "    </tr>\n",
       "  </thead>\n",
       "  <tbody>\n",
       "    <tr>\n",
       "      <th>0</th>\n",
       "      <td>Jeff Kinney</td>\n",
       "      <td>12</td>\n",
       "    </tr>\n",
       "    <tr>\n",
       "      <th>1</th>\n",
       "      <td>Gary Chapman</td>\n",
       "      <td>11</td>\n",
       "    </tr>\n",
       "    <tr>\n",
       "      <th>2</th>\n",
       "      <td>Rick Riordan</td>\n",
       "      <td>11</td>\n",
       "    </tr>\n",
       "    <tr>\n",
       "      <th>3</th>\n",
       "      <td>Suzanne Collins</td>\n",
       "      <td>11</td>\n",
       "    </tr>\n",
       "    <tr>\n",
       "      <th>4</th>\n",
       "      <td>American Psychological Association</td>\n",
       "      <td>10</td>\n",
       "    </tr>\n",
       "  </tbody>\n",
       "</table>\n",
       "</div>"
      ],
      "text/plain": [
       "                               Author  Number of Times\n",
       "0                         Jeff Kinney               12\n",
       "1                        Gary Chapman               11\n",
       "2                        Rick Riordan               11\n",
       "3                     Suzanne Collins               11\n",
       "4  American Psychological Association               10"
      ]
     },
     "execution_count": 55,
     "metadata": {},
     "output_type": "execute_result"
    }
   ],
   "source": [
    "authors = data[\"Author\"].value_counts()\n",
    "author_times = []\n",
    "author_names = []\n",
    "for i in range(len(authors)):\n",
    "    author_names.append(authors.keys()[i])\n",
    "    author_times.append(authors[i])\n",
    "\n",
    "popular_authors = pd.DataFrame({\"Author\":author_names,\"Number of Times\":author_times})\n",
    "popular_authors.head()"
   ]
  },
  {
   "cell_type": "markdown",
   "id": "ba14f3c0",
   "metadata": {},
   "source": [
    "# 4) Statistic and Data visualization"
   ]
  },
  {
   "cell_type": "markdown",
   "id": "c964c684",
   "metadata": {},
   "source": [
    "# (A) Discriptive statistic\n",
    "## 1) Measure of center\n",
    "## 2) Measure of spread\n",
    "## 3) Measure Of shape (Distribution)\n",
    "## 4) Measure of locations"
   ]
  },
  {
   "cell_type": "markdown",
   "id": "1ac7df43",
   "metadata": {},
   "source": [
    "## 1)Measure of center"
   ]
  },
  {
   "cell_type": "code",
   "execution_count": 62,
   "id": "b65d63b7",
   "metadata": {},
   "outputs": [
    {
     "name": "stdout",
     "output_type": "stream",
     "text": [
      "mode\n",
      "0     8\n",
      "1    12\n",
      "Name: Price, dtype: int64\n",
      "********************\n",
      "median\n",
      "10.0\n",
      "********************\n",
      "Arithmatic Mean: \n",
      "10.08\n"
     ]
    }
   ],
   "source": [
    "#Measure of center in 2019\n",
    "print (\"mode\")\n",
    "print (data[data['Year']==2019].Price.mode())\n",
    "print (\"*\"*20)\n",
    "\n",
    "#notes of the median : the median is not skewed so much by small proportion of extremely larg or small valus\n",
    "# if you find the income in company the median is smallest than <<< mean then you know (High inequlity)\n",
    "print (\"median\")\n",
    "print (data[data['Year']==2019].Price.median())\n",
    "\n",
    "print (\"*\"*20)\n",
    "\n",
    "print (\"Arithmatic Mean: \")\n",
    "print(data[data['Year']==2019].Price.mean())"
   ]
  },
  {
   "cell_type": "code",
   "execution_count": 321,
   "id": "0cbe21c5",
   "metadata": {},
   "outputs": [
    {
     "name": "stdout",
     "output_type": "stream",
     "text": [
      "The Mean(classified) = sum/count\n",
      "504\n",
      "50\n",
      "10.08\n"
     ]
    }
   ],
   "source": [
    "#Sceond way to calculate The Arithmatic Mean \n",
    "print ('The Mean(classified) = sum/count')\n",
    "print(data[data['Year']==2019].Price.sum())\n",
    "print(data[data['Year']==2019].Price.count())\n",
    "print(data[data['Year']==2019].Price.sum()/data[data['Year']==2019].Price.count() )\n",
    "#np.average(data['Reviews'], weights=data['Price'])\n",
    "\n"
   ]
  },
  {
   "cell_type": "markdown",
   "id": "b1f4329c",
   "metadata": {},
   "source": [
    "## 2) Measure of spread"
   ]
  },
  {
   "cell_type": "code",
   "execution_count": 71,
   "id": "5668cd0b",
   "metadata": {},
   "outputs": [
    {
     "name": "stdout",
     "output_type": "stream",
     "text": [
      "Range\n",
      "23\n",
      "********************\n",
      "Veranice\n",
      "24.034285714285712\n",
      "********************\n",
      "square Root of var \n",
      "4.902477507779685\n",
      "********************\n",
      "Standerd Deviation: \n",
      "4.902477507779685\n"
     ]
    }
   ],
   "source": [
    "#Measure of spread\n",
    "print(\"Range\")# Range = max - min\n",
    "print (data[data['Year']==2019].Price.max() - data[data['Year']==2019].Price.min() )\n",
    "print (\"*\"*20)\n",
    "\n",
    "#When calculating the variance on the number line, we find in negative and positive values (they fill each other) and it gives the value zero, so we can solve the problem by putting the square root of the variance to give a value called the standard deviation\n",
    "print (\"Veranice\")# notes deviation =[Xi-mu]  \n",
    "print (data[data['Year']==2019].Price.var())\n",
    "print (\"*\"*20)\n",
    "\n",
    "import math \n",
    "print (\"square Root of var \")\n",
    "print (math.sqrt(data[data['Year']==2019].Price.var()))\n",
    "print (\"*\"*20)\n",
    "\n",
    "print (\"Standerd Deviation: \")# We use the standard deviation to know that the data is scattered over a large or small space only, we do not use its value in anything  \n",
    "print (data[data['Year']==2019].Price.std())#the standerd deviation is square root of veranice\n"
   ]
  },
  {
   "cell_type": "markdown",
   "id": "caff4dee",
   "metadata": {},
   "source": [
    "## 3) Measure of shape (Distribution)"
   ]
  },
  {
   "cell_type": "code",
   "execution_count": 72,
   "id": "5f4b90f8",
   "metadata": {},
   "outputs": [
    {
     "name": "stdout",
     "output_type": "stream",
     "text": [
      "kurtosis\n",
      "1.4538804314039693\n",
      "********************\n",
      "skewness\n",
      "0.9997696891118196\n"
     ]
    }
   ],
   "source": [
    "#measure of shape in 2019\n",
    "print(\"kurtosis\")# which Returns (1.4538804314039693)then less than 3 is called (platykurtic), and kurtosis greater than 0  means the distribution’s tails are larger than for a normal distribution\n",
    "print(data[data['Year']==2019].Price.kurt())#Notes The kurtosis of a normal distribution equals 0. A kurtosis greater than 0  means the distribution’s tails are larger than for a normal distribution.\n",
    "                                            #يعني أن ذيول التوزيع أكبر من التوزيع الطبيعي.\n",
    "                                            #A kurtosis less than 0 means the distribution’s tails are smaller than for a normal  distribution.\n",
    "print (\"*\"*20)\n",
    "\n",
    "print(\"skewness\")#returns the value 0.9997696891118196.\n",
    "                 #If the distribution’s values tail (stretch out) to the left, meaning that the distribution includes greater numbers of small values or smaller values than a symmetrical observation would\n",
    "                 #Notes if Skew=zero then it is symatric,,,if skew= positive(+)value then it is left skew,,,if Skew= negtive(-) values it is right skew\n",
    "                 #مما يعني أن التوزيع الجزئي يتضمن أعدادًا أكبر من القيم الصغيرة أو قيمًا أصغر من القيم الصغيرة مقارنة بالملاحظة المتماثلة \n",
    "print (data[data['Year']==2019].Price.skew())"
   ]
  },
  {
   "cell_type": "markdown",
   "id": "8a32f87b",
   "metadata": {},
   "source": [
    "# 4) Measure of locations"
   ]
  },
  {
   "cell_type": "code",
   "execution_count": 85,
   "id": "224b2045",
   "metadata": {},
   "outputs": [
    {
     "name": "stdout",
     "output_type": "stream",
     "text": [
      "First Quantile (Q1)\n",
      "6.0\n",
      "********************\n",
      "sceond Quantile (Q2)= Median\n",
      "10.0\n",
      "********************\n",
      "Third Quantile (Q3)\n",
      "12.75\n",
      "********************\n",
      "Inter Quantile Rang (IQR)\n",
      "6.75\n"
     ]
    }
   ],
   "source": [
    "print('First Quantile (Q1)')\n",
    "print(data[data['Year']==2019].Price.quantile(.25))\n",
    "print (\"*\"*20)\n",
    "\n",
    "print('sceond Quantile (Q2)= Median')\n",
    "print(data[data['Year']==2019].Price.quantile(.5))\n",
    "print (\"*\"*20)\n",
    "\n",
    "print('Third Quantile (Q3)')\n",
    "print(data[data['Year']==2019].Price.quantile(.75))\n",
    "print (\"*\"*20)\n",
    "\n",
    "print('Inter Quantile Rang (IQR)')# IQR = Q3-Q1\n",
    "print(data[data['Year']==2019].Price.quantile(.75)- data[data['Year']==2019].Price.quantile(.25))\n"
   ]
  },
  {
   "cell_type": "code",
   "execution_count": 267,
   "id": "c8a67306",
   "metadata": {},
   "outputs": [
    {
     "data": {
      "text/plain": [
       "Text(0, 0.5, 'Price')"
      ]
     },
     "execution_count": 267,
     "metadata": {},
     "output_type": "execute_result"
    },
    {
     "data": {
      "image/png": "[encoded data removed]",
      "text/plain": [
       "<Figure size 504x504 with 1 Axes>"
      ]
     },
     "metadata": {
      "needs_background": "light"
     },
     "output_type": "display_data"
    }
   ],
   "source": [
    "ax = (data['Price']).plot.box(figsize=(7,7),color=\"red\")\n",
    "\n",
    "ax.set_ylabel('Price')"
   ]
  },
  {
   "cell_type": "code",
   "execution_count": 65,
   "id": "d8d9dd08",
   "metadata": {},
   "outputs": [
    {
     "data": {
      "text/plain": [
       "<AxesSubplot:xlabel='Price'>"
      ]
     },
     "execution_count": 65,
     "metadata": {},
     "output_type": "execute_result"
    },
    {
     "data": {
      "image/png": "[encoded data removed]",
      "text/plain": [
       "<Figure size 1800x360 with 3 Axes>"
      ]
     },
     "metadata": {
      "needs_background": "light"
     },
     "output_type": "display_data"
    }
   ],
   "source": [
    "fig, axes = plt.subplots(1, 3, figsize=(25,5))\n",
    "\n",
    "sns.boxplot(data = data, x='User Rating',color = 'sandybrown', ax = axes[0])\n",
    "sns.boxplot(data = data, x='Reviews',color = 'sandybrown', ax = axes[1])\n",
    "sns.boxplot(data = data, x='Price',color = 'sandybrown', ax = axes[2])"
   ]
  },
  {
   "cell_type": "markdown",
   "id": "c1db4af9",
   "metadata": {},
   "source": [
    "## We could identify outliers"
   ]
  },
  {
   "cell_type": "code",
   "execution_count": 66,
   "id": "0dad9c9f",
   "metadata": {},
   "outputs": [],
   "source": [
    "def list_outliers(df, column):\n",
    "    L = list()\n",
    "    iqr = 1.5*(np.percentile(df[column],75)-np.percentile(df[column],25))\n",
    "    max_out, min_out = iqr + np.percentile(df[column], 75), np.percentile(df[column], 25) - iqr\n",
    "    for x in df[column]:\n",
    "        if x > max_out or x < min_out :\n",
    "            L.append(x)\n",
    "    L.sort()\n",
    "    print('The list of outliers for the column', column, 'is', L)"
   ]
  },
  {
   "cell_type": "code",
   "execution_count": 67,
   "id": "5c77818a",
   "metadata": {},
   "outputs": [
    {
     "name": "stdout",
     "output_type": "stream",
     "text": [
      "The list of outliers for the column User Rating is [3.3, 3.6, 3.8, 3.8, 3.9, 3.9, 3.9, 4.0, 4.0, 4.0, 4.0, 4.0, 4.0, 4.0, 4.0, 4.0, 4.0, 4.0, 4.0, 4.0, 4.0]\n",
      "The list of outliers for the column Reviews is [39459, 47265, 47265, 49288, 49288, 50482, 50482, 50482, 50482, 57271, 57271, 57271, 61133, 61133, 79446, 79446, 87841]\n",
      "The list of outliers for the column Price is [30, 30, 30, 30, 30, 32, 32, 36, 39, 40, 40, 40, 40, 40, 42, 46, 46, 46, 46, 46, 46, 46, 46, 46, 46, 52, 53, 54, 82, 105, 105]\n"
     ]
    }
   ],
   "source": [
    "list_outliers(data, 'User Rating')\n",
    "list_outliers(data, 'Reviews')\n",
    "list_outliers(data, 'Price')"
   ]
  },
  {
   "cell_type": "code",
   "execution_count": 13,
   "id": "278bcef6",
   "metadata": {},
   "outputs": [
    {
     "data": {
      "text/html": [
       "<div>\n",
       "<style scoped>\n",
       "    .dataframe tbody tr th:only-of-type {\n",
       "        vertical-align: middle;\n",
       "    }\n",
       "\n",
       "    .dataframe tbody tr th {\n",
       "        vertical-align: top;\n",
       "    }\n",
       "\n",
       "    .dataframe thead th {\n",
       "        text-align: right;\n",
       "    }\n",
       "</style>\n",
       "<table border=\"1\" class=\"dataframe\">\n",
       "  <thead>\n",
       "    <tr style=\"text-align: right;\">\n",
       "      <th></th>\n",
       "      <th>User Rating</th>\n",
       "      <th>Reviews</th>\n",
       "      <th>Price</th>\n",
       "      <th>Year</th>\n",
       "    </tr>\n",
       "  </thead>\n",
       "  <tbody>\n",
       "    <tr>\n",
       "      <th>count</th>\n",
       "      <td>550.000000</td>\n",
       "      <td>550.000000</td>\n",
       "      <td>550.000000</td>\n",
       "      <td>550.000000</td>\n",
       "    </tr>\n",
       "    <tr>\n",
       "      <th>mean</th>\n",
       "      <td>4.618364</td>\n",
       "      <td>11953.281818</td>\n",
       "      <td>13.100000</td>\n",
       "      <td>2014.000000</td>\n",
       "    </tr>\n",
       "    <tr>\n",
       "      <th>std</th>\n",
       "      <td>0.226980</td>\n",
       "      <td>11731.132017</td>\n",
       "      <td>10.842262</td>\n",
       "      <td>3.165156</td>\n",
       "    </tr>\n",
       "    <tr>\n",
       "      <th>min</th>\n",
       "      <td>3.300000</td>\n",
       "      <td>37.000000</td>\n",
       "      <td>0.000000</td>\n",
       "      <td>2009.000000</td>\n",
       "    </tr>\n",
       "    <tr>\n",
       "      <th>25%</th>\n",
       "      <td>4.500000</td>\n",
       "      <td>4058.000000</td>\n",
       "      <td>7.000000</td>\n",
       "      <td>2011.000000</td>\n",
       "    </tr>\n",
       "    <tr>\n",
       "      <th>50%</th>\n",
       "      <td>4.700000</td>\n",
       "      <td>8580.000000</td>\n",
       "      <td>11.000000</td>\n",
       "      <td>2014.000000</td>\n",
       "    </tr>\n",
       "    <tr>\n",
       "      <th>75%</th>\n",
       "      <td>4.800000</td>\n",
       "      <td>17253.250000</td>\n",
       "      <td>16.000000</td>\n",
       "      <td>2017.000000</td>\n",
       "    </tr>\n",
       "    <tr>\n",
       "      <th>max</th>\n",
       "      <td>4.900000</td>\n",
       "      <td>87841.000000</td>\n",
       "      <td>105.000000</td>\n",
       "      <td>2019.000000</td>\n",
       "    </tr>\n",
       "  </tbody>\n",
       "</table>\n",
       "</div>"
      ],
      "text/plain": [
       "       User Rating       Reviews       Price         Year\n",
       "count   550.000000    550.000000  550.000000   550.000000\n",
       "mean      4.618364  11953.281818   13.100000  2014.000000\n",
       "std       0.226980  11731.132017   10.842262     3.165156\n",
       "min       3.300000     37.000000    0.000000  2009.000000\n",
       "25%       4.500000   4058.000000    7.000000  2011.000000\n",
       "50%       4.700000   8580.000000   11.000000  2014.000000\n",
       "75%       4.800000  17253.250000   16.000000  2017.000000\n",
       "max       4.900000  87841.000000  105.000000  2019.000000"
      ]
     },
     "execution_count": 13,
     "metadata": {},
     "output_type": "execute_result"
    }
   ],
   "source": [
    "data.describe()"
   ]
  },
  {
   "cell_type": "code",
   "execution_count": 269,
   "id": "2758b48e",
   "metadata": {},
   "outputs": [],
   "source": [
    "hist(data[['Price']], breaks=breaks)"
   ]
  },
  {
   "cell_type": "code",
   "execution_count": 272,
   "id": "6a5f8bf9",
   "metadata": {},
   "outputs": [
    {
     "data": {
      "text/plain": [
       "Text(0.5, 0, 'Price')"
      ]
     },
     "execution_count": 272,
     "metadata": {},
     "output_type": "execute_result"
    },
    {
     "data": {
      "image/png": "[encoded data removed]",
      "text/plain": [
       "<Figure size 504x504 with 1 Axes>"
      ]
     },
     "metadata": {
      "needs_background": "light"
     },
     "output_type": "display_data"
    }
   ],
   "source": [
    "ax = (data['Price']).plot.hist(figsize=(7,7),color=\"red\")\n",
    "ax.set_xlabel('Price')"
   ]
  },
  {
   "cell_type": "markdown",
   "id": "2ab65ea5",
   "metadata": {},
   "source": [
    "# Pie chart"
   ]
  },
  {
   "cell_type": "code",
   "execution_count": 285,
   "id": "c6fcf5cb",
   "metadata": {},
   "outputs": [
    {
     "data": {
      "text/plain": [
       "Non Fiction    310\n",
       "Fiction        240\n",
       "Name: Genre, dtype: int64"
      ]
     },
     "execution_count": 285,
     "metadata": {},
     "output_type": "execute_result"
    }
   ],
   "source": [
    "data['Genre'].value_counts() \n"
   ]
  },
  {
   "cell_type": "code",
   "execution_count": 99,
   "id": "141d8f87",
   "metadata": {},
   "outputs": [
    {
     "data": {
      "image/png": "[encoded data removed]",
      "text/plain": [
       "<Figure size 504x504 with 1 Axes>"
      ]
     },
     "metadata": {},
     "output_type": "display_data"
    }
   ],
   "source": [
    "#pie chart in Ten Years\n",
    "import matplotlib.pyplot as plt\n",
    "import numpy as np\n",
    "\n",
    "y = np.array([310, 240])\n",
    "mylabels = [\"Non Fiction 310\", \"Fiction 240\"]\n",
    "plt.figure(figsize=(7,7))\n",
    "plt.pie(y, labels = mylabels)\n",
    "plt.legend()\n",
    "plt.show() "
   ]
  },
  {
   "cell_type": "code",
   "execution_count": 301,
   "id": "85467aea",
   "metadata": {},
   "outputs": [
    {
     "data": {
      "text/plain": [
       "30"
      ]
     },
     "execution_count": 301,
     "metadata": {},
     "output_type": "execute_result"
    }
   ],
   "source": [
    "data[(data['Year']==2019)&(data['Genre']=='Non Fiction')].Genre.count()"
   ]
  },
  {
   "cell_type": "code",
   "execution_count": 302,
   "id": "25866e4f",
   "metadata": {},
   "outputs": [
    {
     "data": {
      "text/plain": [
       "20"
      ]
     },
     "execution_count": 302,
     "metadata": {},
     "output_type": "execute_result"
    }
   ],
   "source": [
    "data[(data['Year']==2019)&(data['Genre']=='Fiction')].Genre.count()"
   ]
  },
  {
   "cell_type": "code",
   "execution_count": 317,
   "id": "4053cea2",
   "metadata": {},
   "outputs": [
    {
     "data": {
      "image/png": "[encoded data removed]",
      "text/plain": [
       "<Figure size 504x504 with 1 Axes>"
      ]
     },
     "metadata": {},
     "output_type": "display_data"
    }
   ],
   "source": [
    "#pie chart in 2019\n",
    "import matplotlib.pyplot as plt\n",
    "import numpy as np\n",
    "\n",
    "y = np.array([30, 20])\n",
    "mylabels = [\"Non Fiction 30\", \"Fiction 20\"]\n",
    "mycolors = [\"black\", \"#4CAF50\"]\n",
    "plt.figure(figsize=(7,7))\n",
    "plt.pie(y, labels = mylabels,colors=mycolors)\n",
    "plt.legend()\n",
    "plt.show() "
   ]
  },
  {
   "cell_type": "markdown",
   "id": "3ab35110",
   "metadata": {},
   "source": [
    "# 2) Bar chart"
   ]
  },
  {
   "cell_type": "code",
   "execution_count": 61,
   "id": "cfa461f5",
   "metadata": {},
   "outputs": [
    {
     "data": {
      "text/plain": [
       "<seaborn.axisgrid.FacetGrid at 0x1b0f8f68e80>"
      ]
     },
     "execution_count": 61,
     "metadata": {},
     "output_type": "execute_result"
    },
    {
     "data": {
      "image/png": "[encoded data removed]",
      "text/plain": [
       "<Figure size 667.5x576 with 1 Axes>"
      ]
     },
     "metadata": {
      "needs_background": "light"
     },
     "output_type": "display_data"
    }
   ],
   "source": [
    "g = sns.catplot(\n",
    "    data=data, kind=\"bar\",\n",
    "    x=\"Year\", y=\"Reviews\", hue=\"Genre\",\n",
    "    ci=\"sd\", palette=\"dark\", height=8\n",
    ")\n",
    "g.despine(left=True)\n",
    "g.set_axis_labels(\"Years\", \"Reviews\")"
   ]
  },
  {
   "cell_type": "code",
   "execution_count": 312,
   "id": "1f7ab277",
   "metadata": {},
   "outputs": [
    {
     "data": {
      "image/png": "[encoded data removed]",
      "text/plain": [
       "<Figure size 1080x504 with 1 Axes>"
      ]
     },
     "metadata": {
      "needs_background": "light"
     },
     "output_type": "display_data"
    }
   ],
   "source": [
    "# the first 5 books and them prices\n",
    "import matplotlib.pyplot as plt\n",
    "\n",
    "fig, ax = plt.subplots(figsize=(15,7))\n",
    "\n",
    "billioners = ['10-Day Green Smoothie Cleanse','11/22/63: A Novel', '12 Rules for Life: An Antidote to Chaos', '1984 (Signet Classics)','5,000 Awesome Facts (About Everything!) (Natio)']\n",
    "counts = [8,22,15,6,12]\n",
    "bar_labels = ['red', 'blue', '_red', 'orange','green']\n",
    "bar_colors = ['tab:red', 'tab:blue', 'tab:red', 'tab:orange']\n",
    "\n",
    "ax.bar(billioners, counts, label=bar_labels, color=bar_colors)\n",
    "\n",
    "ax.set_ylabel('Price')\n",
    "ax.set_title('Price Book Names')\n",
    "#ax.legend(title='Book Name')\n",
    "\n",
    "plt.show()"
   ]
  },
  {
   "cell_type": "code",
   "execution_count": 311,
   "id": "6da71876",
   "metadata": {},
   "outputs": [
    {
     "data": {
      "image/png": "[encoded data removed]",
      "text/plain": [
       "<Figure size 504x504 with 1 Axes>"
      ]
     },
     "metadata": {},
     "output_type": "display_data"
    }
   ],
   "source": [
    "import matplotlib.pyplot as plt\n",
    "\n",
    "\n",
    "labels = '10-Day Green Smoothie Cleanse','11/22/63: A Novel', '12 Rules for Life: An Antidote to Chaos', '1984 (Signet Classics)','5,000 Awesome Facts (About Everything!) (Natio)'\n",
    "sizes = [8,22,15,6,12]\n",
    "explode = (0, 0.1, 0, 0,0)  \n",
    "\n",
    "fig1, ax1 = plt.subplots(figsize=(7,7))\n",
    "ax1.pie(sizes, explode=explode, labels=labels, autopct='%1.1f%%',\n",
    "        shadow=True, startangle=90)\n",
    "ax1.axis('equal')  # Equal aspect ratio ensures that pie is drawn as a circle.\n",
    "\n",
    "plt.show()"
   ]
  },
  {
   "cell_type": "code",
   "execution_count": 313,
   "id": "6a32e3a6",
   "metadata": {},
   "outputs": [],
   "source": [
    "Reviews_sizes = data.Reviews.value_counts().tolist()\n",
    "Reviews_labels = []\n",
    "none = [Reviews_labels.append(i[0]) for i in data.Reviews.value_counts().items()]"
   ]
  },
  {
   "cell_type": "code",
   "execution_count": 315,
   "id": "37d9a0ef",
   "metadata": {},
   "outputs": [
    {
     "data": {
      "image/png": "[encoded data removed]",
      "text/plain": [
       "<Figure size 1080x504 with 1 Axes>"
      ]
     },
     "metadata": {
      "needs_background": "light"
     },
     "output_type": "display_data"
    }
   ],
   "source": [
    "plt.figure(figsize=(15,7))\n",
    "sns.barplot(x=Reviews_sizes,y=Reviews_labels)\n",
    "plt.xlabel('Count')\n",
    "plt.ylabel('Reviews')\n",
    "plt.show()"
   ]
  },
  {
   "cell_type": "markdown",
   "id": "ced1781f",
   "metadata": {},
   "source": [
    "# scatter plot"
   ]
  },
  {
   "cell_type": "code",
   "execution_count": 322,
   "id": "64581947",
   "metadata": {},
   "outputs": [
    {
     "data": {
      "text/plain": [
       "<matplotlib.lines.Line2D at 0x1659b875670>"
      ]
     },
     "execution_count": 322,
     "metadata": {},
     "output_type": "execute_result"
    },
    {
     "data": {
      "image/png": "[encoded data removed]",
      "text/plain": [
       "<Figure size 1080x504 with 1 Axes>"
      ]
     },
     "metadata": {
      "needs_background": "light"
     },
     "output_type": "display_data"
    }
   ],
   "source": [
    "ax = data.plot.scatter(x='Price', y='Reviews', figsize=(15,7), marker='$\\u25EF$')\n",
    "ax.set_xlabel('Price')\n",
    "ax.set_ylabel('Reviews')\n",
    "ax.axhline(0, color='grey', lw=1)\n",
    "ax.axvline(0, color='grey', lw=1)"
   ]
  },
  {
   "cell_type": "markdown",
   "id": "f818540b",
   "metadata": {},
   "source": [
    "# (B) Inferential Statistic"
   ]
  },
  {
   "cell_type": "markdown",
   "id": "14b994ae",
   "metadata": {},
   "source": [
    "## The first Before Any Thing Find(Select process) The sample must be Random( Unbiased and Indepdent) and Represntive \n",
    " The second Thing Find the sample Size = (SD=1/n)\n",
    " Notes what mean the Arithmatic Mean =0? , Means the standard Deiv =1 and means All values far from the arithmetic mean are equal=> ~ N (M,SD); ~N (0,1)\n",
    "-The standerd Normale Distribution : The best and most popular distribution is because all           or most of the data has a normal distribution, and the task is that you convert all   distributions to a normal distribution\n",
    "- you can convert any sample to normale Distribution Using Z-Score=X-MU/SD(SGMA),which X(value to convert)\n",
    "-Dont Forget the standerd Error = SD/n It is certain that in any random sample there will be a percentage of error in the measurement or standard\n",
    "-Convert any distribution to a normal distribution because this distribution is better in measurement and closer to reality\n",
    "-The more samples you take, the closer to the population value"
   ]
  },
  {
   "cell_type": "code",
   "execution_count": 119,
   "id": "21fdf76b",
   "metadata": {},
   "outputs": [
    {
     "data": {
      "text/html": [
       "<div>\n",
       "<style scoped>\n",
       "    .dataframe tbody tr th:only-of-type {\n",
       "        vertical-align: middle;\n",
       "    }\n",
       "\n",
       "    .dataframe tbody tr th {\n",
       "        vertical-align: top;\n",
       "    }\n",
       "\n",
       "    .dataframe thead th {\n",
       "        text-align: right;\n",
       "    }\n",
       "</style>\n",
       "<table border=\"1\" class=\"dataframe\">\n",
       "  <thead>\n",
       "    <tr style=\"text-align: right;\">\n",
       "      <th></th>\n",
       "      <th>Price</th>\n",
       "      <th>Year</th>\n",
       "    </tr>\n",
       "  </thead>\n",
       "  <tbody>\n",
       "    <tr>\n",
       "      <th>4</th>\n",
       "      <td>12</td>\n",
       "      <td>2019</td>\n",
       "    </tr>\n",
       "    <tr>\n",
       "      <th>33</th>\n",
       "      <td>11</td>\n",
       "      <td>2019</td>\n",
       "    </tr>\n",
       "    <tr>\n",
       "      <th>41</th>\n",
       "      <td>5</td>\n",
       "      <td>2019</td>\n",
       "    </tr>\n",
       "    <tr>\n",
       "      <th>44</th>\n",
       "      <td>18</td>\n",
       "      <td>2019</td>\n",
       "    </tr>\n",
       "    <tr>\n",
       "      <th>74</th>\n",
       "      <td>5</td>\n",
       "      <td>2019</td>\n",
       "    </tr>\n",
       "    <tr>\n",
       "      <th>84</th>\n",
       "      <td>4</td>\n",
       "      <td>2019</td>\n",
       "    </tr>\n",
       "    <tr>\n",
       "      <th>85</th>\n",
       "      <td>8</td>\n",
       "      <td>2019</td>\n",
       "    </tr>\n",
       "    <tr>\n",
       "      <th>86</th>\n",
       "      <td>8</td>\n",
       "      <td>2019</td>\n",
       "    </tr>\n",
       "    <tr>\n",
       "      <th>98</th>\n",
       "      <td>15</td>\n",
       "      <td>2019</td>\n",
       "    </tr>\n",
       "    <tr>\n",
       "      <th>127</th>\n",
       "      <td>4</td>\n",
       "      <td>2019</td>\n",
       "    </tr>\n",
       "  </tbody>\n",
       "</table>\n",
       "</div>"
      ],
      "text/plain": [
       "     Price  Year\n",
       "4       12  2019\n",
       "33      11  2019\n",
       "41       5  2019\n",
       "44      18  2019\n",
       "74       5  2019\n",
       "84       4  2019\n",
       "85       8  2019\n",
       "86       8  2019\n",
       "98      15  2019\n",
       "127      4  2019"
      ]
     },
     "execution_count": 119,
     "metadata": {},
     "output_type": "execute_result"
    }
   ],
   "source": [
    "data[data['Year']==2019].iloc[0:10,4:6]"
   ]
  },
  {
   "cell_type": "markdown",
   "id": "f523c76c",
   "metadata": {},
   "source": [
    "## 1) Select process Random sample"
   ]
  },
  {
   "cell_type": "code",
   "execution_count": 212,
   "id": "d5ca3ca8",
   "metadata": {},
   "outputs": [
    {
     "name": "stdout",
     "output_type": "stream",
     "text": [
      "Access first three items\n",
      "array('i', [12, 11, 5, 18, 5, 4, 8, 8, 15, 4])\n"
     ]
    }
   ],
   "source": [
    "#Data structure and Algorithm (Array)\n",
    "from array import *\n",
    "price = array('i',data[data['Year']==2019].Price)\n",
    "#for i in array_num:\n",
    "  #  print(i)\n",
    "print(\"Access first three items\")\n",
    "print(price[0:10])\n"
   ]
  },
  {
   "cell_type": "code",
   "execution_count": 243,
   "id": "520a7c2e",
   "metadata": {},
   "outputs": [
    {
     "name": "stdout",
     "output_type": "stream",
     "text": [
      "[73  7  3 22 79 56 69 16 77 86]\n"
     ]
    }
   ],
   "source": [
    "import random\n",
    "import numpy as np\n",
    "sample_price = data[data['Year']==2019].Price\n",
    "sample_price=np.random.randint(0,100,10)\n",
    "print(sample_price)\n"
   ]
  },
  {
   "cell_type": "markdown",
   "id": "fffaf29a",
   "metadata": {},
   "source": [
    "## 2) sample size "
   ]
  },
  {
   "cell_type": "code",
   "execution_count": 249,
   "id": "76df6bb0",
   "metadata": {},
   "outputs": [
    {
     "data": {
      "text/plain": [
       "10"
      ]
     },
     "execution_count": 249,
     "metadata": {},
     "output_type": "execute_result"
    }
   ],
   "source": [
    "sample_price.size\n",
    "#if you git Bigger sample size thin you take samller standerd deviation(becouse inverse relationship)and Narrow Curve(this more Batter)and More confidance"
   ]
  },
  {
   "cell_type": "markdown",
   "id": "2af1e87a",
   "metadata": {},
   "source": [
    "## 3)Confident Interval"
   ]
  },
  {
   "cell_type": "code",
   "execution_count": 263,
   "id": "752e9063",
   "metadata": {},
   "outputs": [
    {
     "data": {
      "text/plain": [
       "(29.695323946430335, 67.90467605356966)"
      ]
     },
     "execution_count": 263,
     "metadata": {},
     "output_type": "execute_result"
    }
   ],
   "source": [
    "#Confidence Interval = x(+/-)t*(s/√n)\n",
    "#x: sample mean\n",
    "#t: t-value that corresponds to the confidence level\n",
    "#s: sample standard deviation\n",
    "#n: sample size\n",
    "\n",
    "import numpy as np\n",
    "import scipy.stats as st\n",
    "  \n",
    "# define sample data\n",
    "sample_price = [73 , 7 , 3, 22, 79, 56, 69, 16, 77, 86]\n",
    "  \n",
    "# create 90% confidence interval\n",
    "st.t.interval(alpha=0.90, df=len(sample_price)-1,\n",
    "              loc=np.mean(sample_price),\n",
    "              scale=st.sem(sample_price))"
   ]
  },
  {
   "cell_type": "code",
   "execution_count": null,
   "id": "ba931f9b",
   "metadata": {},
   "outputs": [],
   "source": [
    "The End"
   ]
  }
 ],
 "metadata": {
  "kernelspec": {
   "display_name": "Python 3 (ipykernel)",
   "language": "python",
   "name": "python3"
  },
  "language_info": {
   "codemirror_mode": {
    "name": "ipython",
    "version": 3
   },
   "file_extension": ".py",
   "mimetype": "text/x-python",
   "name": "python",
   "nbconvert_exporter": "python",
   "pygments_lexer": "ipython3",
   "version": "3.9.12"
  }
 },
 "nbformat": 4,
 "nbformat_minor": 5
}
